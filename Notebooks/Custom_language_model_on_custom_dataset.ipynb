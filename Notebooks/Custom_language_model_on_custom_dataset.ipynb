{
 "cells": [
  {
   "cell_type": "code",
   "execution_count": null,
   "metadata": {
    "colab": {
     "base_uri": "https://localhost:8080/",
     "height": 106
    },
    "colab_type": "code",
    "id": "Xe7KhI4ZpSUc",
    "outputId": "112e66e6-9a56-4fd1-d1e0-3f2e3a905f3b"
   },
   "outputs": [
    {
     "name": "stdout",
     "output_type": "stream",
     "text": [
      "Go to this URL in a browser: https://accounts.google.com/o/oauth2/auth?client_id=947318989803-6bn6qk8qdgf4n4g3pfee6491hc0brc4i.apps.googleusercontent.com&redirect_uri=urn%3aietf%3awg%3aoauth%3a2.0%3aoob&scope=email%20https%3a%2f%2fwww.googleapis.com%2fauth%2fdocs.test%20https%3a%2f%2fwww.googleapis.com%2fauth%2fdrive%20https%3a%2f%2fwww.googleapis.com%2fauth%2fdrive.photos.readonly%20https%3a%2f%2fwww.googleapis.com%2fauth%2fpeopleapi.readonly&response_type=code\n",
      "\n",
      "Enter your authorization code:\n",
      "··········\n"
     ]
    }
   ],
   "source": [
    "from google.colab import drive\n",
    "import os\n",
    "drive.mount('/content/gdrive')\n",
    "!ls /content/gdrive/My\\ Drive/\n",
    "root_path = 'gdrive/My Drive/'\n",
    "os.chdir('gdrive/My Drive/')"
   ]
  },
  {
   "cell_type": "markdown",
   "metadata": {
    "colab_type": "text",
    "id": "rcSP1dJSp8mt"
   },
   "source": [
    "Imports:\n"
   ]
  },
  {
   "cell_type": "code",
   "execution_count": 4,
   "metadata": {
    "colab": {},
    "colab_type": "code",
    "id": "Akp5mgSWp-v8"
   },
   "outputs": [],
   "source": [
    "from keras.layers import Bidirectional, Concatenate, Permute, Dot, Input, LSTM, Multiply\n",
    "from keras.layers import RepeatVector, Dense, Activation, Lambda\n",
    "from keras.optimizers import Adam\n",
    "from keras.utils import to_categorical\n",
    "from keras.models import load_model, Model\n",
    "import keras.backend as K\n",
    "import keras.preprocessing\n",
    "import tensorflow as tf\n",
    "import numpy as np\n",
    "import pandas as pd\n",
    "import re\n",
    "from collections import Counter\n",
    "import matplotlib.pyplot as plt\n",
    "import pickle"
   ]
  },
  {
   "cell_type": "markdown",
   "metadata": {
    "colab_type": "text",
    "id": "E0pIW2P_qThG"
   },
   "source": [
    "Utils to use in this jupyter:"
   ]
  },
  {
   "cell_type": "code",
   "execution_count": 50,
   "metadata": {
    "colab": {},
    "colab_type": "code",
    "id": "XTEZGDQWqXQo"
   },
   "outputs": [],
   "source": [
    "def df_to_tensor(df):\n",
    "  rev_tensor = tf.data.Dataset.from_tensor_slices([tf.convert_to_tensor(e) for e in df.review])\n",
    "  #sent_tensor = tf.data.Dataset.from_tensor_slices([tf.convert_to_tensor(e, dtype=tf.int64) for e in df.sentiment])\n",
    "  sent_tensor = tf.data.Dataset.from_tensor_slices(tf.one_hot(df.sentiment, depth=3))\n",
    "  return tf.data.Dataset.zip((rev_tensor, sent_tensor)).prefetch(1)\n",
    "\n",
    "def preprocess(X_batch, y_batch):\n",
    "    X_batch = tf.strings.substr(X_batch, 0, 2000)\n",
    "    X_batch = tf.strings.regex_replace(X_batch, b\"<br\\\\s*/?>\", b\" \")\n",
    "    X_batch = tf.strings.regex_replace(X_batch, b\"[^a-zA-Z']\", b\" \")\n",
    "    X_batch = tf.strings.split(X_batch)\n",
    "    return X_batch.to_tensor(default_value=b\"<pad>\"), y_batch\n",
    "\n",
    "def encode_words(X_batch, y_batch):\n",
    "    return table.lookup(X_batch), y_batch\n",
    "\n",
    "def plot_metric(history, metric):\n",
    "  plt.plot(history.history[metric])\n",
    "  plt.plot(history.history['val_'+metric])\n",
    "  plt.xlabel('Epochs')\n",
    "  plt.ylabel(metric)\n",
    "  plt.legend([metric, 'val_'+metric])\n",
    "  plt.show()\n",
    "\n",
    "#to re-write:\n",
    "def sample_predict(sample_pred_texts, table):\n",
    "    rev_tensor = tf.convert_to_tensor(sample_pred_texts)\n",
    "    X = tf.strings.substr(rev_tensor, 0, 2000)\n",
    "    X = tf.strings.regex_replace(X, b\"<br\\\\s*/?>\", b\" \")\n",
    "    X = tf.strings.regex_replace(X, b\"[^a-zA-Z']\", b\" \")\n",
    "    X = tf.strings.split(X)\n",
    "    X = X.to_tensor(default_value=b\"<pad>\")\n",
    "    return table.lookup(X)\n",
    "\n",
    "def decode(predictions):\n",
    "    codex = {'0':'Negative', '1':'Neutral', '2':'Positive'}\n",
    "    return [codex[str(np.argmax(e))] for e in predictions]  \n",
    "\n",
    "def load_vocabulary(vocab_file, num_oov_buckets = 5000):\n",
    "    words = tf.constant(vocab_file)\n",
    "    word_ids = tf.range(len(vocab_file), dtype=tf.int64)\n",
    "    vocab_init = tf.lookup.KeyValueTensorInitializer(words, word_ids)\n",
    "    return tf.lookup.StaticVocabularyTable(vocab_init, num_oov_buckets)"
   ]
  },
  {
   "cell_type": "markdown",
   "metadata": {
    "colab_type": "text",
    "id": "eWAkH6Zopx-2"
   },
   "source": [
    "## Loading data\n",
    "\n",
    "First we load the data from the repository that I created:"
   ]
  },
  {
   "cell_type": "code",
   "execution_count": 27,
   "metadata": {
    "colab": {
     "base_uri": "https://localhost:8080/",
     "height": 206
    },
    "colab_type": "code",
    "id": "NVGlW9Bwpju2",
    "outputId": "cd9c5741-37ce-454a-f97e-cf1d46ecd6ca"
   },
   "outputs": [
    {
     "data": {
      "text/html": [
       "<div>\n",
       "<style scoped>\n",
       "    .dataframe tbody tr th:only-of-type {\n",
       "        vertical-align: middle;\n",
       "    }\n",
       "\n",
       "    .dataframe tbody tr th {\n",
       "        vertical-align: top;\n",
       "    }\n",
       "\n",
       "    .dataframe thead th {\n",
       "        text-align: right;\n",
       "    }\n",
       "</style>\n",
       "<table border=\"1\" class=\"dataframe\">\n",
       "  <thead>\n",
       "    <tr style=\"text-align: right;\">\n",
       "      <th></th>\n",
       "      <th>review</th>\n",
       "      <th>grade</th>\n",
       "      <th>lang</th>\n",
       "      <th>score</th>\n",
       "      <th>sentiment</th>\n",
       "    </tr>\n",
       "  </thead>\n",
       "  <tbody>\n",
       "    <tr>\n",
       "      <th>0</th>\n",
       "      <td>The statue of Hadrian, the 14th Emperor of the...</td>\n",
       "      <td>it was amazing</td>\n",
       "      <td>en</td>\n",
       "      <td>4</td>\n",
       "      <td>2</td>\n",
       "    </tr>\n",
       "    <tr>\n",
       "      <th>1</th>\n",
       "      <td>It's hard to know what to think about this boo...</td>\n",
       "      <td>really liked it</td>\n",
       "      <td>en</td>\n",
       "      <td>3</td>\n",
       "      <td>2</td>\n",
       "    </tr>\n",
       "    <tr>\n",
       "      <th>2</th>\n",
       "      <td>If you're into stuff like this, you can read t...</td>\n",
       "      <td>it was amazing</td>\n",
       "      <td>en</td>\n",
       "      <td>4</td>\n",
       "      <td>2</td>\n",
       "    </tr>\n",
       "    <tr>\n",
       "      <th>3</th>\n",
       "      <td>Has Kenzaburo Oe ever visited Japan? Ban this ...</td>\n",
       "      <td>it was amazing</td>\n",
       "      <td>en</td>\n",
       "      <td>4</td>\n",
       "      <td>2</td>\n",
       "    </tr>\n",
       "    <tr>\n",
       "      <th>4</th>\n",
       "      <td>Sadza (typical cornmeal staple food in Zimbabw...</td>\n",
       "      <td>it was amazing</td>\n",
       "      <td>en</td>\n",
       "      <td>4</td>\n",
       "      <td>2</td>\n",
       "    </tr>\n",
       "  </tbody>\n",
       "</table>\n",
       "</div>"
      ],
      "text/plain": [
       "                                              review            grade lang  \\\n",
       "0  The statue of Hadrian, the 14th Emperor of the...   it was amazing   en   \n",
       "1  It's hard to know what to think about this boo...  really liked it   en   \n",
       "2  If you're into stuff like this, you can read t...   it was amazing   en   \n",
       "3  Has Kenzaburo Oe ever visited Japan? Ban this ...   it was amazing   en   \n",
       "4  Sadza (typical cornmeal staple food in Zimbabw...   it was amazing   en   \n",
       "\n",
       "   score  sentiment  \n",
       "0      4          2  \n",
       "1      3          2  \n",
       "2      4          2  \n",
       "3      4          2  \n",
       "4      4          2  "
      ]
     },
     "execution_count": 27,
     "metadata": {},
     "output_type": "execute_result"
    }
   ],
   "source": [
    "#data_url = 'https://raw.githubusercontent.com/DavidCarricondo/Custom-database-goodreads-reviews/master/DATA/goodreads_reviews_clean.csv'\n",
    "#data = pd.read_csv(data_url)\n",
    "data_path = '../INPUT/goodreads_reviews_clean.csv'\n",
    "data = pd.read_csv(data_path)\n",
    "data.head()"
   ]
  },
  {
   "cell_type": "markdown",
   "metadata": {
    "colab_type": "text",
    "id": "xB7CUZZarR-Q"
   },
   "source": [
    "Now, let's shuffle the data and then split it into train, validation, and test data (90%, 5%, 5% respectively), and then convert it to tensorflow tensors"
   ]
  },
  {
   "cell_type": "code",
   "execution_count": 28,
   "metadata": {
    "colab": {},
    "colab_type": "code",
    "id": "iXPvDBnnp6t-"
   },
   "outputs": [],
   "source": [
    "data = data.sample(frac=1).reset_index(drop=True)\n",
    "\n",
    "train_size = len(data) * 90//100\n",
    "valtest_size = (len(data)-train_size)//2\n",
    "\n",
    "data_train = data[:train_size]\n",
    "data_val = data[train_size:(train_size+valtest_size)]\n",
    "data_test = data[(train_size+valtest_size):]"
   ]
  },
  {
   "cell_type": "code",
   "execution_count": 29,
   "metadata": {
    "colab": {},
    "colab_type": "code",
    "id": "ckcZZHO-rqzk"
   },
   "outputs": [],
   "source": [
    "data_train = df_to_tensor(data_train)\n",
    "data_val = df_to_tensor(data_val)\n",
    "data_test = df_to_tensor(data_test)"
   ]
  },
  {
   "cell_type": "code",
   "execution_count": 30,
   "metadata": {
    "colab": {
     "base_uri": "https://localhost:8080/",
     "height": 34
    },
    "colab_type": "code",
    "id": "Q6p8ELIosJI3",
    "outputId": "dbb31ca9-ce84-4a78-b1d0-b75a0cbe518c"
   },
   "outputs": [
    {
     "data": {
      "text/plain": [
       "tensorflow.python.data.ops.dataset_ops.PrefetchDataset"
      ]
     },
     "execution_count": 30,
     "metadata": {},
     "output_type": "execute_result"
    }
   ],
   "source": [
    "type(data_train)"
   ]
  },
  {
   "cell_type": "markdown",
   "metadata": {
    "colab_type": "text",
    "id": "rMBg2dtMsdGU"
   },
   "source": [
    "## Creating vocabulary\n",
    "\n",
    "Now we create a vocabulary and assign an index to each word:"
   ]
  },
  {
   "cell_type": "code",
   "execution_count": 31,
   "metadata": {
    "colab": {},
    "colab_type": "code",
    "id": "GxBUABsJsNFU"
   },
   "outputs": [],
   "source": [
    "#The counter object will just count into a dictionary the number of instances of each element (word in this case) in an object\n",
    "vocabulary = Counter()\n",
    "for X_batch, y_batch in data_train.batch(32).map(preprocess):\n",
    "    for review in X_batch:\n",
    "        vocabulary.update(list(review.numpy()))"
   ]
  },
  {
   "cell_type": "code",
   "execution_count": 32,
   "metadata": {
    "colab": {
     "base_uri": "https://localhost:8080/",
     "height": 34
    },
    "colab_type": "code",
    "id": "k3at9Npes8jG",
    "outputId": "717e54a1-13bb-4fa9-86ca-08863c7054b3"
   },
   "outputs": [
    {
     "data": {
      "text/plain": [
       "[(b'<pad>', 3758660), (b'the', 184135), (b'of', 113296)]"
      ]
     },
     "execution_count": 32,
     "metadata": {},
     "output_type": "execute_result"
    }
   ],
   "source": [
    "vocabulary.most_common()[:3]"
   ]
  },
  {
   "cell_type": "code",
   "execution_count": 33,
   "metadata": {
    "colab": {
     "base_uri": "https://localhost:8080/",
     "height": 34
    },
    "colab_type": "code",
    "id": "dR1YKH7HtE8t",
    "outputId": "6534c029-6f82-449d-88c0-dacef11f81fe"
   },
   "outputs": [
    {
     "data": {
      "text/plain": [
       "86672"
      ]
     },
     "execution_count": 33,
     "metadata": {},
     "output_type": "execute_result"
    }
   ],
   "source": [
    "len(vocabulary)"
   ]
  },
  {
   "cell_type": "markdown",
   "metadata": {
    "colab_type": "text",
    "id": "cKPdYA8xtNsZ"
   },
   "source": [
    "We can also truncate the vocabulary to use only the 10000 most common words:"
   ]
  },
  {
   "cell_type": "code",
   "execution_count": 34,
   "metadata": {
    "colab": {},
    "colab_type": "code",
    "id": "n3E-IdrBtMUB"
   },
   "outputs": [],
   "source": [
    "vocab_size = 10000\n",
    "truncated_vocabulary = [word for word, count in vocabulary.most_common()[:vocab_size]]"
   ]
  },
  {
   "cell_type": "markdown",
   "metadata": {
    "colab_type": "text",
    "id": "cXm2XKB9tdL3"
   },
   "source": [
    "And now, we create a lookup table with the word indexes plus 1000 out of the dictionary buckets to transform the reviews to their word indexes in the vocabulary:"
   ]
  },
  {
   "cell_type": "code",
   "execution_count": 35,
   "metadata": {
    "colab": {},
    "colab_type": "code",
    "id": "5HC8fFHstGdq"
   },
   "outputs": [],
   "source": [
    "words = tf.constant(truncated_vocabulary)\n",
    "word_ids = tf.range(len(truncated_vocabulary), dtype=tf.int64)\n",
    "vocab_init = tf.lookup.KeyValueTensorInitializer(words, word_ids)\n",
    "num_oov_buckets = 1000\n",
    "table = tf.lookup.StaticVocabularyTable(vocab_init, num_oov_buckets)"
   ]
  },
  {
   "cell_type": "code",
   "execution_count": 36,
   "metadata": {
    "colab": {
     "base_uri": "https://localhost:8080/",
     "height": 34
    },
    "colab_type": "code",
    "id": "jfYlSAuqtYyq",
    "outputId": "4e1f2f8e-2d1e-47b2-a4e2-97d4d5799694"
   },
   "outputs": [
    {
     "data": {
      "text/plain": [
       "<tf.Tensor: shape=(1, 9), dtype=int64, numpy=array([[   11,    13,    12,    66,    97,     3,     1,   125, 10839]])>"
      ]
     },
     "execution_count": 36,
     "metadata": {},
     "output_type": "execute_result"
    }
   ],
   "source": [
    "table.lookup(tf.constant([b'this book was very good and the author guapisimo'.split()]))"
   ]
  },
  {
   "cell_type": "markdown",
   "metadata": {
    "colab_type": "text",
    "id": "iT9l4Dyit7s8"
   },
   "source": [
    "Note that \"guapisimo\" is not in the dictionary and therefore it's assigned an index greater than 10000."
   ]
  },
  {
   "cell_type": "code",
   "execution_count": 37,
   "metadata": {},
   "outputs": [
    {
     "data": {
      "text/plain": [
       "<tensorflow.python.ops.lookup_ops.StaticVocabularyTable at 0x7fd0586a7ba8>"
      ]
     },
     "execution_count": 37,
     "metadata": {},
     "output_type": "execute_result"
    }
   ],
   "source": [
    "table\n"
   ]
  },
  {
   "cell_type": "code",
   "execution_count": 38,
   "metadata": {},
   "outputs": [],
   "source": [
    "with open('../OUTPUT/vocabulary', 'wb') as f:\n",
    "    pickle.dump(truncated_vocabulary, f)\n",
    "f.close()"
   ]
  },
  {
   "cell_type": "markdown",
   "metadata": {
    "colab_type": "text",
    "id": "KrmeGZP8uF5-"
   },
   "source": [
    "## Reviews preprocessing and encoding\n",
    "\n",
    "Now we are ready to use the reviews. First we batch the data, then we preprocess it, and then we encode them. All of it using the functions defined above:\n"
   ]
  },
  {
   "cell_type": "code",
   "execution_count": 61,
   "metadata": {
    "colab": {},
    "colab_type": "code",
    "id": "Ol2C2t2It6h6"
   },
   "outputs": [],
   "source": [
    "train_set = data_train.batch(32).map(preprocess)\n",
    "train_set = train_set.map(encode_words).prefetch(1)\n",
    "\n",
    "val_set = data_val.batch(32).map(preprocess)\n",
    "val_set = val_set.map(encode_words).prefetch(1)\n",
    "\n",
    "test_set = data_test.batch(32).map(preprocess)\n",
    "test_set = test_set.map(encode_words).prefetch(1)"
   ]
  },
  {
   "cell_type": "markdown",
   "metadata": {
    "colab_type": "text",
    "id": "yLt1HeWduw_L"
   },
   "source": [
    "## Modelling"
   ]
  },
  {
   "cell_type": "code",
   "execution_count": 62,
   "metadata": {
    "colab": {
     "base_uri": "https://localhost:8080/",
     "height": 434
    },
    "colab_type": "code",
    "id": "3xAuDnugz8gB",
    "outputId": "68acfc4e-e927-40f9-a1e7-fa0c4f847b4d"
   },
   "outputs": [
    {
     "name": "stdout",
     "output_type": "stream",
     "text": [
      "Epoch 1/15\n",
      "634/634 [==============================] - 1818s 3s/step - loss: 1.0389 - accuracy: 0.4445 - val_loss: 0.9616 - val_accuracy: 0.5311\n",
      "Epoch 2/15\n",
      "634/634 [==============================] - 1867s 3s/step - loss: 0.8873 - accuracy: 0.5736 - val_loss: 0.9573 - val_accuracy: 0.5160\n",
      "Epoch 3/15\n",
      "634/634 [==============================] - 2138s 3s/step - loss: 0.7312 - accuracy: 0.6796 - val_loss: 0.9937 - val_accuracy: 0.5222\n",
      "Epoch 4/15\n",
      "634/634 [==============================] - 1890s 3s/step - loss: 0.5865 - accuracy: 0.7637 - val_loss: 1.0498 - val_accuracy: 0.5524\n",
      "Epoch 5/15\n",
      "634/634 [==============================] - 1523s 2s/step - loss: 0.4779 - accuracy: 0.8149 - val_loss: 1.1920 - val_accuracy: 0.5320\n",
      "Epoch 6/15\n",
      "634/634 [==============================] - 1485s 2s/step - loss: 0.3867 - accuracy: 0.8552 - val_loss: 1.3729 - val_accuracy: 0.5373\n",
      "Epoch 7/15\n",
      "634/634 [==============================] - 1485s 2s/step - loss: 0.3199 - accuracy: 0.8848 - val_loss: 1.5054 - val_accuracy: 0.5195\n",
      "Epoch 8/15\n",
      "634/634 [==============================] - 1485s 2s/step - loss: 0.2633 - accuracy: 0.9048 - val_loss: 1.6330 - val_accuracy: 0.5249\n",
      "Epoch 9/15\n",
      "634/634 [==============================] - 1552s 2s/step - loss: 0.2267 - accuracy: 0.9198 - val_loss: 1.9288 - val_accuracy: 0.4911\n",
      "Epoch 10/15\n",
      "634/634 [==============================] - 1483s 2s/step - loss: 0.2057 - accuracy: 0.9255 - val_loss: 2.1062 - val_accuracy: 0.4973\n",
      "Epoch 11/15\n",
      "634/634 [==============================] - 1477s 2s/step - loss: 0.1813 - accuracy: 0.9344 - val_loss: 2.0940 - val_accuracy: 0.5107\n",
      "Epoch 12/15\n",
      "634/634 [==============================] - 1477s 2s/step - loss: 0.1691 - accuracy: 0.9387 - val_loss: 2.1725 - val_accuracy: 0.4973\n",
      "Epoch 13/15\n",
      "634/634 [==============================] - 1486s 2s/step - loss: 0.1385 - accuracy: 0.9518 - val_loss: 2.2895 - val_accuracy: 0.4920\n",
      "Epoch 14/15\n",
      "634/634 [==============================] - 1486s 2s/step - loss: 0.1232 - accuracy: 0.9558 - val_loss: 2.3567 - val_accuracy: 0.4947\n",
      "Epoch 15/15\n",
      "634/634 [==============================] - 1589s 3s/step - loss: 0.1065 - accuracy: 0.9619 - val_loss: 2.3541 - val_accuracy: 0.4956\n"
     ]
    }
   ],
   "source": [
    "embed_size = 128\n",
    "\n",
    "inputs = tf.keras.layers.Input(shape=[None])\n",
    "mask = tf.keras.layers.Lambda(lambda inputs: K.not_equal(inputs, 0))(inputs)\n",
    "\n",
    "z = tf.keras.layers.Embedding(vocab_size + num_oov_buckets, embed_size)(inputs)\n",
    "z = tf.keras.layers.Bidirectional(tf.keras.layers.LSTM(128, return_sequences=True, dropout=0.4, recurrent_dropout=0.4))(z, mask=mask)\n",
    "z = tf.keras.layers.LSTM(128, dropout=0.4, recurrent_dropout=0.4)(z, mask=mask)\n",
    "outputs = keras.layers.Dense(3, activation='softmax')(z)\n",
    "\n",
    "model = keras.Model(inputs=[inputs], outputs=[outputs])\n",
    "\n",
    "model.compile(loss='CategoricalCrossentropy', optimizer='adam', metrics=['accuracy'])\n",
    "\n",
    "history = model.fit(train_set, validation_data=val_set, epochs=15)\n",
    "\n",
    "model.save('../OUTPUT/models/model_custom_rnn.h5')"
   ]
  },
  {
   "cell_type": "code",
   "execution_count": 63,
   "metadata": {
    "colab": {
     "base_uri": "https://localhost:8080/",
     "height": 69
    },
    "colab_type": "code",
    "id": "8XwxymCSw5CS",
    "outputId": "5464db07-de08-4604-e0ad-a15d399244ff"
   },
   "outputs": [
    {
     "name": "stdout",
     "output_type": "stream",
     "text": [
      "36/36 [==============================] - 18s 495ms/step - loss: 2.3398 - accuracy: 0.5142\n",
      "Test Loss: 2.3397538661956787\n",
      "Test Accuracy: 0.5142095685005188\n"
     ]
    }
   ],
   "source": [
    "test_loss, test_acc = model.evaluate(test_set)\n",
    "\n",
    "print('Test Loss: {}'.format(test_loss))\n",
    "print('Test Accuracy: {}'.format(test_acc))"
   ]
  },
  {
   "cell_type": "code",
   "execution_count": 64,
   "metadata": {
    "colab": {
     "base_uri": "https://localhost:8080/",
     "height": 541
    },
    "colab_type": "code",
    "id": "RBsJ3Rfju5qe",
    "outputId": "3c9d6f0a-8d41-4015-a1ac-654fb57fd9a9"
   },
   "outputs": [
    {
     "data": {
      "image/png": "[encoded data removed]",
      "text/plain": [
       "<Figure size 432x288 with 1 Axes>"
      ]
     },
     "metadata": {
      "needs_background": "light"
     },
     "output_type": "display_data"
    },
    {
     "data": {
      "image/png": "[encoded data removed]",
      "text/plain": [
       "<Figure size 432x288 with 1 Axes>"
      ]
     },
     "metadata": {
      "needs_background": "light"
     },
     "output_type": "display_data"
    }
   ],
   "source": [
    "plot_metric(history, 'accuracy')\n",
    "plot_metric(history, 'loss')"
   ]
  },
  {
   "cell_type": "code",
   "execution_count": 65,
   "metadata": {},
   "outputs": [
    {
     "data": {
      "text/plain": [
       "<tf.Tensor: shape=(2, 4), dtype=int64, numpy=\n",
       "array([[ 162,    4,   98,   13],\n",
       "       [5521,   10,   12, 1869]])>"
      ]
     },
     "execution_count": 65,
     "metadata": {},
     "output_type": "execute_result"
    }
   ],
   "source": [
    "test = sample_predict(['such a good book', 'meh, it was ok'], table)\n",
    "test"
   ]
  },
  {
   "cell_type": "code",
   "execution_count": 66,
   "metadata": {},
   "outputs": [
    {
     "data": {
      "text/plain": [
       "array([[0.29180074, 0.28995147, 0.41824782],\n",
       "       [0.02009744, 0.9758655 , 0.00403704]], dtype=float32)"
      ]
     },
     "execution_count": 66,
     "metadata": {},
     "output_type": "execute_result"
    }
   ],
   "source": [
    "pred = model.predict(test)\n",
    "pred"
   ]
  },
  {
   "cell_type": "code",
   "execution_count": 67,
   "metadata": {},
   "outputs": [
    {
     "data": {
      "text/plain": [
       "['Positive', 'Neutral']"
      ]
     },
     "execution_count": 67,
     "metadata": {},
     "output_type": "execute_result"
    }
   ],
   "source": [
    "decode(pred)"
   ]
  },
  {
   "cell_type": "markdown",
   "metadata": {},
   "source": [
    "Now, for production purpuses, we need to load the model and dictionary from memory and predict from there:"
   ]
  },
  {
   "cell_type": "code",
   "execution_count": 40,
   "metadata": {},
   "outputs": [],
   "source": [
    "#Load model:\n",
    "model = load_model('../OUTPUT/models/model_custom_rnn.h5')\n",
    "#Load vocabulary file and create the statictable:\n",
    "with open('../OUTPUT/vocabulary', 'rb') as f:\n",
    "    vocab = pickle.load(f)\n",
    "f.close()\n",
    "table = load_vocabulary(vocab, num_oov_buckets = 1000)"
   ]
  },
  {
   "cell_type": "code",
   "execution_count": 41,
   "metadata": {},
   "outputs": [
    {
     "data": {
      "text/plain": [
       "['Neutral', 'Negative']"
      ]
     },
     "execution_count": 41,
     "metadata": {},
     "output_type": "execute_result"
    }
   ],
   "source": [
    "test = sample_predict(['such a good book', 'meh, it was ok'], table)\n",
    "pred = model.predict(test)\n",
    "decode(pred)"
   ]
  },
  {
   "cell_type": "code",
   "execution_count": 52,
   "metadata": {},
   "outputs": [
    {
     "data": {
      "text/html": [
       "<div>\n",
       "<style scoped>\n",
       "    .dataframe tbody tr th:only-of-type {\n",
       "        vertical-align: middle;\n",
       "    }\n",
       "\n",
       "    .dataframe tbody tr th {\n",
       "        vertical-align: top;\n",
       "    }\n",
       "\n",
       "    .dataframe thead th {\n",
       "        text-align: right;\n",
       "    }\n",
       "</style>\n",
       "<table border=\"1\" class=\"dataframe\">\n",
       "  <thead>\n",
       "    <tr style=\"text-align: right;\">\n",
       "      <th></th>\n",
       "      <th>review</th>\n",
       "      <th>grade</th>\n",
       "      <th>lang</th>\n",
       "      <th>score</th>\n",
       "      <th>sentiment</th>\n",
       "    </tr>\n",
       "  </thead>\n",
       "  <tbody>\n",
       "    <tr>\n",
       "      <th>7</th>\n",
       "      <td>A requirement for my second year book report. ...</td>\n",
       "      <td>it was ok</td>\n",
       "      <td>en</td>\n",
       "      <td>1</td>\n",
       "      <td>0</td>\n",
       "    </tr>\n",
       "    <tr>\n",
       "      <th>9</th>\n",
       "      <td>the most interesting thing about this book wer...</td>\n",
       "      <td>did not like it</td>\n",
       "      <td>en</td>\n",
       "      <td>0</td>\n",
       "      <td>0</td>\n",
       "    </tr>\n",
       "    <tr>\n",
       "      <th>11</th>\n",
       "      <td>It hurts having to give such a rating, special...</td>\n",
       "      <td>it was ok</td>\n",
       "      <td>en</td>\n",
       "      <td>1</td>\n",
       "      <td>0</td>\n",
       "    </tr>\n",
       "    <tr>\n",
       "      <th>23</th>\n",
       "      <td>The need for a Marias book is a physical uncom...</td>\n",
       "      <td>it was ok</td>\n",
       "      <td>en</td>\n",
       "      <td>1</td>\n",
       "      <td>0</td>\n",
       "    </tr>\n",
       "    <tr>\n",
       "      <th>25</th>\n",
       "      <td>Wow - this book goes from one extreme to the o...</td>\n",
       "      <td>did not like it</td>\n",
       "      <td>en</td>\n",
       "      <td>0</td>\n",
       "      <td>0</td>\n",
       "    </tr>\n",
       "    <tr>\n",
       "      <th>...</th>\n",
       "      <td>...</td>\n",
       "      <td>...</td>\n",
       "      <td>...</td>\n",
       "      <td>...</td>\n",
       "      <td>...</td>\n",
       "    </tr>\n",
       "    <tr>\n",
       "      <th>22490</th>\n",
       "      <td>Sliding from weak metaphor to weak metaphor, \"...</td>\n",
       "      <td>it was ok</td>\n",
       "      <td>en</td>\n",
       "      <td>1</td>\n",
       "      <td>0</td>\n",
       "    </tr>\n",
       "    <tr>\n",
       "      <th>22497</th>\n",
       "      <td>Amitav Ghosh's attempt to bring together one's...</td>\n",
       "      <td>it was ok</td>\n",
       "      <td>en</td>\n",
       "      <td>1</td>\n",
       "      <td>0</td>\n",
       "    </tr>\n",
       "    <tr>\n",
       "      <th>22499</th>\n",
       "      <td>I had to abandon this book part way in - I hon...</td>\n",
       "      <td>did not like it</td>\n",
       "      <td>en</td>\n",
       "      <td>0</td>\n",
       "      <td>0</td>\n",
       "    </tr>\n",
       "    <tr>\n",
       "      <th>22500</th>\n",
       "      <td>I feel kind of bad giving this two stars. On t...</td>\n",
       "      <td>it was ok</td>\n",
       "      <td>en</td>\n",
       "      <td>1</td>\n",
       "      <td>0</td>\n",
       "    </tr>\n",
       "    <tr>\n",
       "      <th>22506</th>\n",
       "      <td>\"The ethical is the universal and as such, in ...</td>\n",
       "      <td>did not like it</td>\n",
       "      <td>en</td>\n",
       "      <td>0</td>\n",
       "      <td>0</td>\n",
       "    </tr>\n",
       "  </tbody>\n",
       "</table>\n",
       "<p>6586 rows × 5 columns</p>\n",
       "</div>"
      ],
      "text/plain": [
       "                                                  review            grade  \\\n",
       "7      A requirement for my second year book report. ...        it was ok   \n",
       "9      the most interesting thing about this book wer...  did not like it   \n",
       "11     It hurts having to give such a rating, special...        it was ok   \n",
       "23     The need for a Marias book is a physical uncom...        it was ok   \n",
       "25     Wow - this book goes from one extreme to the o...  did not like it   \n",
       "...                                                  ...              ...   \n",
       "22490  Sliding from weak metaphor to weak metaphor, \"...        it was ok   \n",
       "22497  Amitav Ghosh's attempt to bring together one's...        it was ok   \n",
       "22499  I had to abandon this book part way in - I hon...  did not like it   \n",
       "22500  I feel kind of bad giving this two stars. On t...        it was ok   \n",
       "22506  \"The ethical is the universal and as such, in ...  did not like it   \n",
       "\n",
       "      lang  score  sentiment  \n",
       "7       en      1          0  \n",
       "9       en      0          0  \n",
       "11      en      1          0  \n",
       "23      en      1          0  \n",
       "25      en      0          0  \n",
       "...    ...    ...        ...  \n",
       "22490   en      1          0  \n",
       "22497   en      1          0  \n",
       "22499   en      0          0  \n",
       "22500   en      1          0  \n",
       "22506   en      0          0  \n",
       "\n",
       "[6586 rows x 5 columns]"
      ]
     },
     "execution_count": 52,
     "metadata": {},
     "output_type": "execute_result"
    }
   ],
   "source": [
    "data[data.sentiment==0]"
   ]
  },
  {
   "cell_type": "code",
   "execution_count": 7,
   "metadata": {},
   "outputs": [],
   "source": [
    "from selenium.webdriver.common.keys import Keys\n",
    "from selenium.webdriver.common.by import By\n",
    "from selenium.webdriver.support.ui import WebDriverWait\n",
    "from selenium.webdriver.support import expected_conditions as EC\n",
    "\n",
    "def gr_log(driver, user, password):\n",
    "    username_field = driver.find_element_by_id(\"userSignInFormEmail\")\n",
    "    password_field = driver.find_element_by_id(\"user_password\")\n",
    "\n",
    "    username_field.send_keys(user)\n",
    "    #driver.implicitly_wait(1)\n",
    "        \n",
    "    password_field.send_keys(password)\n",
    "    #driver.implicitly_wait(1)\n",
    "\n",
    "    #Click the submit button (the third element formbox)\n",
    "    submit = driver.find_elements_by_class_name('formBox')\n",
    "    submit[2].click()\n",
    "\n",
    "    driver.implicitly_wait(3) \n",
    "\n",
    "def get_book(driver, name, log=False):\n",
    "    if log==True:\n",
    "        try:\n",
    "            inputs = driver.find_elements_by_tag_name('input')\n",
    "        except:\n",
    "            raise ValueError('I do not seem to find that book')    \n",
    "        #The search box is the first input tag\n",
    "        search_box = 0\n",
    "        for i in inputs:\n",
    "            search_box = i\n",
    "            break\n",
    "    else:\n",
    "        search_box = driver.find_element_by_id('sitesearch_field')        \n",
    "    #Input the book name and hit enter\n",
    "    search_box.send_keys(name)\n",
    "    search_box.send_keys(Keys.RETURN)\n",
    "\n",
    "    #close log-in banner\n",
    "    close_button_path = \"/html/body/div[3]/div/div/div[1]\" \n",
    "    wait = WebDriverWait(driver, 10)\n",
    "    close_button = wait.until(EC.visibility_of_element_located((By.XPATH, close_button_path)))\n",
    "    close_button .click()\n",
    "\n",
    "    #SELECT THE FIRST INSTANCE\n",
    "    driver.find_element_by_class_name('bookTitle').click()\n",
    "\n",
    "def get_GR_reviews(driver):\n",
    "    reviews_container = driver.find_elements_by_class_name('review')\n",
    "\n",
    "    reviews = {}\n",
    "\n",
    "    for i, e in enumerate(reviews_container):\n",
    "        try:\n",
    "            read = e.find_element_by_class_name('readable')\n",
    "        except:\n",
    "            continue\n",
    "        try:\n",
    "            read.find_element_by_link_text('...more').click()\n",
    "        except:\n",
    "            pass\n",
    "        rev = read.find_elements_by_tag_name('span')\n",
    "        reviews[i] = (rev[0].text if len(rev)==1 else rev[1].text)\n",
    "    return reviews\n",
    "\n",
    "def get_title_and_pic(driver):\n",
    "\n",
    "    title = driver.find_element_by_id('bookTitle').text\n",
    "    \n",
    "    author = driver.find_element_by_id('bookAuthors')\n",
    "    authors = author.find_elements_by_class_name('authorName')\n",
    "    aut = ', '.join([aut.text for aut in authors])\n",
    "\n",
    "    pic = driver.find_element_by_id('coverImage').get_attribute(\"src\")\n",
    "\n",
    "    return title.upper(), aut, pic\n",
    "\n",
    "\n",
    "\n",
    "    \n"
   ]
  },
  {
   "cell_type": "code",
   "execution_count": 8,
   "metadata": {},
   "outputs": [],
   "source": [
    "import os\n",
    "import dotenv\n",
    "from selenium import webdriver\n",
    "from selenium.webdriver.support.ui import WebDriverWait\n",
    "import json\n",
    "\n",
    "dotenv.load_dotenv()\n",
    "\n",
    "\n",
    "def GR_scrapping(DRIVER, BOOK_NAME, GR_PASS=None, GR_USER=None):\n",
    "    driver = webdriver.Chrome(DRIVER)\n",
    "\n",
    "    #Open web:\n",
    "    driver.get('https://www.goodreads.com/')\n",
    "    driver.implicitly_wait(2)\n",
    "\n",
    "\n",
    "    ###LOG IN TO GOODREADS ACCOUNT:\n",
    "    #gr_log(driver, GR_USER, GR_PASS)\n",
    "\n",
    "\n",
    "    ###FIND A BOOK\n",
    "    get_book(driver, BOOK_NAME, log=False)\n",
    "    driver.implicitly_wait(4)\n",
    "\n",
    "\n",
    "    #GET THE REVIEWS\n",
    "    title, author, pic = get_title_and_pic(driver)\n",
    "    reviews = get_GR_reviews(driver)\n",
    "\n",
    "    #Save json:\n",
    "    #with open('OUTPUT/data.json', 'w') as fp:\n",
    "    #    json.dump(reviews, fp)\n",
    "\n",
    "    driver.quit()\n",
    "\n",
    "    return reviews, title, author, pic"
   ]
  },
  {
   "cell_type": "code",
   "execution_count": 10,
   "metadata": {},
   "outputs": [],
   "source": [
    "reviews, _, _, _ = GR_scrapping('/home/david/Chrome_web_driver/chromedriver', 'of mice and men')"
   ]
  },
  {
   "cell_type": "code",
   "execution_count": 23,
   "metadata": {},
   "outputs": [],
   "source": [
    "revs = [rev for key, rev in reviews.items()]"
   ]
  },
  {
   "cell_type": "code",
   "execution_count": 42,
   "metadata": {},
   "outputs": [
    {
     "data": {
      "text/plain": [
       "['Neutral', 'Positive']"
      ]
     },
     "execution_count": 42,
     "metadata": {},
     "output_type": "execute_result"
    }
   ],
   "source": [
    "test = sample_predict(revs[:2], table)\n",
    "pred = model.predict(test)\n",
    "decode(pred)"
   ]
  },
  {
   "cell_type": "code",
   "execution_count": 44,
   "metadata": {},
   "outputs": [
    {
     "data": {
      "text/plain": [
       "<tf.Tensor: shape=(2, 4), dtype=int64, numpy=\n",
       "array([[ 163,    4,   97,   13],\n",
       "       [5131,   10,   12, 1885]])>"
      ]
     },
     "execution_count": 44,
     "metadata": {},
     "output_type": "execute_result"
    }
   ],
   "source": [
    "sample_predict(['such a good book', 'meh, it was ok'], table)"
   ]
  },
  {
   "cell_type": "code",
   "execution_count": 46,
   "metadata": {},
   "outputs": [],
   "source": [
    "coded_revs = sample_predict(revs, table)"
   ]
  },
  {
   "cell_type": "code",
   "execution_count": 47,
   "metadata": {},
   "outputs": [
    {
     "data": {
      "text/plain": [
       "['Neutral',\n",
       " 'Positive',\n",
       " 'Neutral',\n",
       " 'Negative',\n",
       " 'Positive',\n",
       " 'Neutral',\n",
       " 'Neutral',\n",
       " 'Negative',\n",
       " 'Neutral',\n",
       " 'Positive',\n",
       " 'Neutral',\n",
       " 'Negative',\n",
       " 'Positive',\n",
       " 'Positive',\n",
       " 'Positive',\n",
       " 'Positive',\n",
       " 'Neutral',\n",
       " 'Neutral',\n",
       " 'Positive',\n",
       " 'Negative',\n",
       " 'Positive',\n",
       " 'Negative',\n",
       " 'Negative',\n",
       " 'Negative',\n",
       " 'Neutral',\n",
       " 'Neutral',\n",
       " 'Neutral',\n",
       " 'Negative',\n",
       " 'Negative',\n",
       " 'Positive']"
      ]
     },
     "execution_count": 47,
     "metadata": {},
     "output_type": "execute_result"
    }
   ],
   "source": [
    "pred = model.predict(coded_revs)\n",
    "decode(pred)"
   ]
  },
  {
   "cell_type": "code",
   "execution_count": 49,
   "metadata": {},
   "outputs": [
    {
     "name": "stdout",
     "output_type": "stream",
     "text": [
      "tf.Tensor(10998, shape=(), dtype=int64)\n"
     ]
    }
   ],
   "source": [
    "maxim = 0\n",
    "for e in coded_revs:\n",
    "    if max(e)>maxim:\n",
    "        maxim = max(e)\n",
    "print(maxim)"
   ]
  },
  {
   "cell_type": "code",
   "execution_count": null,
   "metadata": {},
   "outputs": [],
   "source": []
  },
  {
   "cell_type": "code",
   "execution_count": null,
   "metadata": {},
   "outputs": [],
   "source": []
  },
  {
   "cell_type": "code",
   "execution_count": null,
   "metadata": {},
   "outputs": [],
   "source": []
  },
  {
   "cell_type": "code",
   "execution_count": null,
   "metadata": {
    "colab": {},
    "colab_type": "code",
    "id": "a8SG26c9wpb0"
   },
   "outputs": [],
   "source": [
    "embed_size = 128\n",
    "\n",
    "model_simple = tf.keras.models.Sequential([\n",
    "    tf.keras.layers.Embedding(vocab_size + num_oov_buckets, embed_size, input_shape=[None]),\n",
    "    tf.keras.layers.GRU(128, return_sequences=True, ),\n",
    "    tf.keras.layers.GRU(128),\n",
    "    tf.keras.layers.Dense(3, activation='softmax')\n",
    "])\n",
    "\n",
    "model_simple.compile(loss='CategoricalCrossentropy', optimizer='adam', metrics=['accuracy'])\n",
    "\n",
    "history = model_simple.fit(train_set, validation_data=val_set, epochs=10)"
   ]
  },
  {
   "cell_type": "code",
   "execution_count": null,
   "metadata": {},
   "outputs": [],
   "source": []
  }
 ],
 "metadata": {
  "accelerator": "GPU",
  "colab": {
   "name": "Untitled0.ipynb",
   "provenance": []
  },
  "kernelspec": {
   "display_name": "Python 3",
   "language": "python",
   "name": "python3"
  },
  "language_info": {
   "codemirror_mode": {
    "name": "ipython",
    "version": 3
   },
   "file_extension": ".py",
   "mimetype": "text/x-python",
   "name": "python",
   "nbconvert_exporter": "python",
   "pygments_lexer": "ipython3",
   "version": "3.6.9"
  }
 },
 "nbformat": 4,
 "nbformat_minor": 1
}
