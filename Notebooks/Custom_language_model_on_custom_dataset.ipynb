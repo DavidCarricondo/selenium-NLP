{
  "nbformat": 4,
  "nbformat_minor": 0,
  "metadata": {
    "colab": {
      "name": "Untitled0.ipynb",
      "provenance": []
    },
    "kernelspec": {
      "name": "python3",
      "display_name": "Python 3"
    },
    "accelerator": "GPU"
  },
  "cells": [
    {
      "cell_type": "code",
      "metadata": {
        "id": "Xe7KhI4ZpSUc",
        "colab_type": "code",
        "colab": {
          "base_uri": "https://localhost:8080/",
          "height": 106
        },
        "outputId": "112e66e6-9a56-4fd1-d1e0-3f2e3a905f3b"
      },
      "source": [
        "from google.colab import drive\n",
        "import os\n",
        "drive.mount('/content/gdrive')\n",
        "!ls /content/gdrive/My\\ Drive/\n",
        "root_path = 'gdrive/My Drive/'\n",
        "os.chdir('gdrive/My Drive/')"
      ],
      "execution_count": null,
      "outputs": [
        {
          "output_type": "stream",
          "text": [
            "Go to this URL in a browser: https://accounts.google.com/o/oauth2/auth?client_id=947318989803-6bn6qk8qdgf4n4g3pfee6491hc0brc4i.apps.googleusercontent.com&redirect_uri=urn%3aietf%3awg%3aoauth%3a2.0%3aoob&scope=email%20https%3a%2f%2fwww.googleapis.com%2fauth%2fdocs.test%20https%3a%2f%2fwww.googleapis.com%2fauth%2fdrive%20https%3a%2f%2fwww.googleapis.com%2fauth%2fdrive.photos.readonly%20https%3a%2f%2fwww.googleapis.com%2fauth%2fpeopleapi.readonly&response_type=code\n",
            "\n",
            "Enter your authorization code:\n",
            "··········\n"
          ],
          "name": "stdout"
        }
      ]
    },
    {
      "cell_type": "markdown",
      "metadata": {
        "id": "rcSP1dJSp8mt",
        "colab_type": "text"
      },
      "source": [
        "Imports:\n"
      ]
    },
    {
      "cell_type": "code",
      "metadata": {
        "id": "Akp5mgSWp-v8",
        "colab_type": "code",
        "colab": {}
      },
      "source": [
        "from keras.layers import Bidirectional, Concatenate, Permute, Dot, Input, LSTM, Multiply\n",
        "from keras.layers import RepeatVector, Dense, Activation, Lambda\n",
        "from keras.optimizers import Adam\n",
        "from keras.utils import to_categorical\n",
        "from keras.models import load_model, Model\n",
        "import keras.backend as K\n",
        "import keras.preprocessing\n",
        "import tensorflow as tf\n",
        "import numpy as np\n",
        "import pandas as pd\n",
        "import re\n",
        "from collections import Counter\n",
        "import matplotlib.pyplot as plt"
      ],
      "execution_count": 9,
      "outputs": []
    },
    {
      "cell_type": "markdown",
      "metadata": {
        "id": "E0pIW2P_qThG",
        "colab_type": "text"
      },
      "source": [
        "Utils to use in this jupyter:"
      ]
    },
    {
      "cell_type": "code",
      "metadata": {
        "id": "XTEZGDQWqXQo",
        "colab_type": "code",
        "colab": {}
      },
      "source": [
        "def df_to_tensor(df):\n",
        "  rev_tensor = tf.data.Dataset.from_tensor_slices([tf.convert_to_tensor(e) for e in df.review])\n",
        "  #sent_tensor = tf.data.Dataset.from_tensor_slices([tf.convert_to_tensor(e, dtype=tf.int64) for e in df.sentiment])\n",
        "  sent_tensor = tf.data.Dataset.from_tensor_slices(tf.one_hot(df.sentiment, depth=3))\n",
        "  return tf.data.Dataset.zip((rev_tensor, sent_tensor)).prefetch(1)\n",
        "\n",
        "def preprocess(X_batch, y_batch):\n",
        "    X_batch = tf.strings.substr(X_batch, 0, 2000)\n",
        "    X_batch = tf.strings.regex_replace(X_batch, b\"<br\\\\s*/?>\", b\" \")\n",
        "    X_batch = tf.strings.regex_replace(X_batch, b\"[^a-zA-Z']\", b\" \")\n",
        "    X_batch = tf.strings.split(X_batch)\n",
        "    return X_batch.to_tensor(default_value=b\"<pad>\"), y_batch\n",
        "\n",
        "def encode_words(X_batch, y_batch):\n",
        "    return table.lookup(X_batch), y_batch\n",
        "\n",
        "def plot_metric(history, metric):\n",
        "  plt.plot(history.history[metric])\n",
        "  plt.plot(history.history['val_'+metric])\n",
        "  plt.xlabel('Epochs')\n",
        "  plt.ylabel(metric)\n",
        "  plt.legend([metric, 'val_'+metric])\n",
        "  plt.show()\n",
        "\n",
        "#to re-write:\n",
        "def sample_predict(sample_pred_text, pad):\n",
        "  encoded_sample_pred_text = encoder.encode(sample_pred_text)\n",
        "  if pad:\n",
        "    encoded_sample_pred_text = pad_to_size(encoded_sample_pred_text, 64)\n",
        "  encoded_sample_pred_text = tf.cast(encoded_sample_pred_text, tf.float32)\n",
        "  predictions = model.predict(tf.expand_dims(encoded_sample_pred_text, 0))\n",
        "  return (predictions)"
      ],
      "execution_count": 61,
      "outputs": []
    },
    {
      "cell_type": "markdown",
      "metadata": {
        "id": "eWAkH6Zopx-2",
        "colab_type": "text"
      },
      "source": [
        "## Loading data\n",
        "\n",
        "First we load the data from the repository that I created:"
      ]
    },
    {
      "cell_type": "code",
      "metadata": {
        "id": "NVGlW9Bwpju2",
        "colab_type": "code",
        "colab": {
          "base_uri": "https://localhost:8080/",
          "height": 206
        },
        "outputId": "cd9c5741-37ce-454a-f97e-cf1d46ecd6ca"
      },
      "source": [
        "data_url = 'https://raw.githubusercontent.com/DavidCarricondo/Custom-database-goodreads-reviews/master/DATA/goodreads_reviews_clean.csv'\n",
        "data = pd.read_csv(data_url)\n",
        "data.head()"
      ],
      "execution_count": 4,
      "outputs": [
        {
          "output_type": "execute_result",
          "data": {
            "text/html": [
              "<div>\n",
              "<style scoped>\n",
              "    .dataframe tbody tr th:only-of-type {\n",
              "        vertical-align: middle;\n",
              "    }\n",
              "\n",
              "    .dataframe tbody tr th {\n",
              "        vertical-align: top;\n",
              "    }\n",
              "\n",
              "    .dataframe thead th {\n",
              "        text-align: right;\n",
              "    }\n",
              "</style>\n",
              "<table border=\"1\" class=\"dataframe\">\n",
              "  <thead>\n",
              "    <tr style=\"text-align: right;\">\n",
              "      <th></th>\n",
              "      <th>review</th>\n",
              "      <th>grade</th>\n",
              "      <th>lang</th>\n",
              "      <th>score</th>\n",
              "      <th>sentiment</th>\n",
              "    </tr>\n",
              "  </thead>\n",
              "  <tbody>\n",
              "    <tr>\n",
              "      <th>0</th>\n",
              "      <td>The statue of Hadrian, the 14th Emperor of the...</td>\n",
              "      <td>it was amazing</td>\n",
              "      <td>en</td>\n",
              "      <td>4</td>\n",
              "      <td>2</td>\n",
              "    </tr>\n",
              "    <tr>\n",
              "      <th>1</th>\n",
              "      <td>It's hard to know what to think about this boo...</td>\n",
              "      <td>really liked it</td>\n",
              "      <td>en</td>\n",
              "      <td>3</td>\n",
              "      <td>2</td>\n",
              "    </tr>\n",
              "    <tr>\n",
              "      <th>2</th>\n",
              "      <td>If you're into stuff like this, you can read t...</td>\n",
              "      <td>it was amazing</td>\n",
              "      <td>en</td>\n",
              "      <td>4</td>\n",
              "      <td>2</td>\n",
              "    </tr>\n",
              "    <tr>\n",
              "      <th>3</th>\n",
              "      <td>Has Kenzaburo Oe ever visited Japan? Ban this ...</td>\n",
              "      <td>it was amazing</td>\n",
              "      <td>en</td>\n",
              "      <td>4</td>\n",
              "      <td>2</td>\n",
              "    </tr>\n",
              "    <tr>\n",
              "      <th>4</th>\n",
              "      <td>Sadza (typical cornmeal staple food in Zimbabw...</td>\n",
              "      <td>it was amazing</td>\n",
              "      <td>en</td>\n",
              "      <td>4</td>\n",
              "      <td>2</td>\n",
              "    </tr>\n",
              "  </tbody>\n",
              "</table>\n",
              "</div>"
            ],
            "text/plain": [
              "                                              review  ... sentiment\n",
              "0  The statue of Hadrian, the 14th Emperor of the...  ...         2\n",
              "1  It's hard to know what to think about this boo...  ...         2\n",
              "2  If you're into stuff like this, you can read t...  ...         2\n",
              "3  Has Kenzaburo Oe ever visited Japan? Ban this ...  ...         2\n",
              "4  Sadza (typical cornmeal staple food in Zimbabw...  ...         2\n",
              "\n",
              "[5 rows x 5 columns]"
            ]
          },
          "metadata": {
            "tags": []
          },
          "execution_count": 4
        }
      ]
    },
    {
      "cell_type": "markdown",
      "metadata": {
        "id": "xB7CUZZarR-Q",
        "colab_type": "text"
      },
      "source": [
        "Now, let's shuffle the data and then split it into train, validation, and test data (90%, 5%, 5% respectively), and then convert it to tensorflow tensors"
      ]
    },
    {
      "cell_type": "code",
      "metadata": {
        "id": "iXPvDBnnp6t-",
        "colab_type": "code",
        "colab": {}
      },
      "source": [
        "data = data.sample(frac=1).reset_index(drop=True)\n",
        "\n",
        "train_size = len(data) * 90//100\n",
        "valtest_size = (len(data)-train_size)//2\n",
        "\n",
        "data_train = data[:train_size]\n",
        "data_val = data[train_size:(train_size+valtest_size)]\n",
        "data_test = data[(train_size+valtest_size):]"
      ],
      "execution_count": 64,
      "outputs": []
    },
    {
      "cell_type": "code",
      "metadata": {
        "id": "ckcZZHO-rqzk",
        "colab_type": "code",
        "colab": {}
      },
      "source": [
        "data_train = df_to_tensor(data_train)\n",
        "data_val = df_to_tensor(data_val)\n",
        "data_test = df_to_tensor(data_test)"
      ],
      "execution_count": 65,
      "outputs": []
    },
    {
      "cell_type": "code",
      "metadata": {
        "id": "Q6p8ELIosJI3",
        "colab_type": "code",
        "colab": {
          "base_uri": "https://localhost:8080/",
          "height": 34
        },
        "outputId": "dbb31ca9-ce84-4a78-b1d0-b75a0cbe518c"
      },
      "source": [
        "type(data_train)"
      ],
      "execution_count": 58,
      "outputs": [
        {
          "output_type": "execute_result",
          "data": {
            "text/plain": [
              "tensorflow.python.data.ops.dataset_ops.PrefetchDataset"
            ]
          },
          "metadata": {
            "tags": []
          },
          "execution_count": 58
        }
      ]
    },
    {
      "cell_type": "markdown",
      "metadata": {
        "id": "rMBg2dtMsdGU",
        "colab_type": "text"
      },
      "source": [
        "## Creating vocabulary\n",
        "\n",
        "Now we create a vocabulary and assign an index to each word:"
      ]
    },
    {
      "cell_type": "code",
      "metadata": {
        "id": "GxBUABsJsNFU",
        "colab_type": "code",
        "colab": {}
      },
      "source": [
        "#The counter object will just count into a dictionary the number of instances of each element (word in this case) in an object\n",
        "vocabulary = Counter()\n",
        "for X_batch, y_batch in data_train.batch(32).map(preprocess):\n",
        "    for review in X_batch:\n",
        "        vocabulary.update(list(review.numpy()))"
      ],
      "execution_count": 66,
      "outputs": []
    },
    {
      "cell_type": "code",
      "metadata": {
        "id": "k3at9Npes8jG",
        "colab_type": "code",
        "colab": {
          "base_uri": "https://localhost:8080/",
          "height": 34
        },
        "outputId": "717e54a1-13bb-4fa9-86ca-08863c7054b3"
      },
      "source": [
        "vocabulary.most_common()[:3]"
      ],
      "execution_count": 67,
      "outputs": [
        {
          "output_type": "execute_result",
          "data": {
            "text/plain": [
              "[(b'<pad>', 3757248), (b'the', 184354), (b'of', 113533)]"
            ]
          },
          "metadata": {
            "tags": []
          },
          "execution_count": 67
        }
      ]
    },
    {
      "cell_type": "code",
      "metadata": {
        "id": "dR1YKH7HtE8t",
        "colab_type": "code",
        "colab": {
          "base_uri": "https://localhost:8080/",
          "height": 34
        },
        "outputId": "6534c029-6f82-449d-88c0-dacef11f81fe"
      },
      "source": [
        "len(vocabulary)"
      ],
      "execution_count": 68,
      "outputs": [
        {
          "output_type": "execute_result",
          "data": {
            "text/plain": [
              "86422"
            ]
          },
          "metadata": {
            "tags": []
          },
          "execution_count": 68
        }
      ]
    },
    {
      "cell_type": "markdown",
      "metadata": {
        "id": "cKPdYA8xtNsZ",
        "colab_type": "text"
      },
      "source": [
        "We can also truncate the vocabulary to use only the 10000 most common words:"
      ]
    },
    {
      "cell_type": "code",
      "metadata": {
        "id": "n3E-IdrBtMUB",
        "colab_type": "code",
        "colab": {}
      },
      "source": [
        "vocab_size = 50000\n",
        "truncated_vocabulary = [word for word, count in vocabulary.most_common()[:vocab_size]]"
      ],
      "execution_count": 69,
      "outputs": []
    },
    {
      "cell_type": "markdown",
      "metadata": {
        "id": "cXm2XKB9tdL3",
        "colab_type": "text"
      },
      "source": [
        "And now, we create a lookup table with the word indexes plus 1000 out of the dictionary buckets to transform the reviews to their word indexes in the vocabulary:"
      ]
    },
    {
      "cell_type": "code",
      "metadata": {
        "id": "5HC8fFHstGdq",
        "colab_type": "code",
        "colab": {}
      },
      "source": [
        "words = tf.constant(truncated_vocabulary)\n",
        "word_ids = tf.range(len(truncated_vocabulary), dtype=tf.int64)\n",
        "vocab_init = tf.lookup.KeyValueTensorInitializer(words, word_ids)\n",
        "num_oov_buckets = 1000\n",
        "table = tf.lookup.StaticVocabularyTable(vocab_init, num_oov_buckets)"
      ],
      "execution_count": 70,
      "outputs": []
    },
    {
      "cell_type": "code",
      "metadata": {
        "id": "jfYlSAuqtYyq",
        "colab_type": "code",
        "colab": {
          "base_uri": "https://localhost:8080/",
          "height": 34
        },
        "outputId": "4e1f2f8e-2d1e-47b2-a4e2-97d4d5799694"
      },
      "source": [
        "table.lookup(tf.constant([b'this book was very good and the author guapisimo'.split()]))"
      ],
      "execution_count": 71,
      "outputs": [
        {
          "output_type": "execute_result",
          "data": {
            "text/plain": [
              "<tf.Tensor: shape=(1, 9), dtype=int64, numpy=array([[   11,    13,    12,    67,    99,     3,     1,   125, 50839]])>"
            ]
          },
          "metadata": {
            "tags": []
          },
          "execution_count": 71
        }
      ]
    },
    {
      "cell_type": "markdown",
      "metadata": {
        "id": "iT9l4Dyit7s8",
        "colab_type": "text"
      },
      "source": [
        "Note that \"guapisimo\" is not in the dictionary and therefore it's assigned an index greater than 10000."
      ]
    },
    {
      "cell_type": "markdown",
      "metadata": {
        "id": "KrmeGZP8uF5-",
        "colab_type": "text"
      },
      "source": [
        "## Reviews preprocessing and encoding\n",
        "\n",
        "Now we are ready to use the reviews. First we batch the data, then we preprocess it, and then we encode them. All of it using the functions defined above:\n"
      ]
    },
    {
      "cell_type": "code",
      "metadata": {
        "id": "Ol2C2t2It6h6",
        "colab_type": "code",
        "colab": {}
      },
      "source": [
        "train_set = data_train.batch(32).map(preprocess)\n",
        "train_set = train_set.map(encode_words).prefetch(1)\n",
        "\n",
        "val_set = data_val.batch(32).map(preprocess)\n",
        "val_set = val_set.map(encode_words).prefetch(1)\n",
        "\n",
        "test_set = data_test.batch(32).map(preprocess)\n",
        "test_set = test_set.map(encode_words).prefetch(1)"
      ],
      "execution_count": 72,
      "outputs": []
    },
    {
      "cell_type": "markdown",
      "metadata": {
        "id": "yLt1HeWduw_L",
        "colab_type": "text"
      },
      "source": [
        "## Modelling"
      ]
    },
    {
      "cell_type": "code",
      "metadata": {
        "id": "3xAuDnugz8gB",
        "colab_type": "code",
        "colab": {
          "base_uri": "https://localhost:8080/",
          "height": 434
        },
        "outputId": "68acfc4e-e927-40f9-a1e7-fa0c4f847b4d"
      },
      "source": [
        "embed_size = 128\n",
        "\n",
        "inputs = tf.keras.layers.Input(shape=[None])\n",
        "mask = tf.keras.layers.Lambda(lambda inputs: K.not_equal(inputs, 0))(inputs)\n",
        "\n",
        "z = tf.keras.layers.Embedding(vocab_size + num_oov_buckets, embed_size)(inputs)\n",
        "z = tf.keras.layers.Bidirectional(tf.keras.layers.LSTM(128, return_sequences=True, dropout=0.4, recurrent_dropout=0.4))(z, mask=mask)\n",
        "z = tf.keras.layers.LSTM(128, dropout=0.4, recurrent_dropout=0.4)(z, mask=mask)\n",
        "outputs = keras.layers.Dense(3, activation='softmax')(z)\n",
        "\n",
        "model = keras.Model(inputs=[inputs], outputs=[outputs])\n",
        "\n",
        "model.compile(loss='SparseCategoricalCrossentropy', optimizer='adam', metrics=['accuracy'])\n",
        "\n",
        "history = model.fit(train_set, validation_data=val_set, epochs=10)\n",
        "\n",
        "model.save('model_custom_rnn.h5')"
      ],
      "execution_count": 42,
      "outputs": [
        {
          "output_type": "stream",
          "text": [
            "WARNING:tensorflow:Layer lstm_10 will not use cuDNN kernel since it doesn't meet the cuDNN kernel criteria. It will use generic GPU kernel as fallback when running on GPU\n",
            "WARNING:tensorflow:Layer lstm_10 will not use cuDNN kernel since it doesn't meet the cuDNN kernel criteria. It will use generic GPU kernel as fallback when running on GPU\n",
            "WARNING:tensorflow:Layer lstm_10 will not use cuDNN kernel since it doesn't meet the cuDNN kernel criteria. It will use generic GPU kernel as fallback when running on GPU\n",
            "WARNING:tensorflow:Layer lstm_11 will not use cuDNN kernel since it doesn't meet the cuDNN kernel criteria. It will use generic GPU kernel as fallback when running on GPU\n",
            "Epoch 1/10\n",
            "634/634 [==============================] - 1502s 2s/step - loss: 1.0539 - accuracy: 0.4227 - val_loss: 1.0011 - val_accuracy: 0.4609\n",
            "Epoch 2/10\n",
            "634/634 [==============================] - 1510s 2s/step - loss: 0.9070 - accuracy: 0.5555 - val_loss: 0.9839 - val_accuracy: 0.5231\n",
            "Epoch 3/10\n",
            "634/634 [==============================] - 1512s 2s/step - loss: 0.7214 - accuracy: 0.6810 - val_loss: 1.0885 - val_accuracy: 0.5107\n",
            "Epoch 4/10\n",
            "634/634 [==============================] - 1614s 3s/step - loss: 0.5581 - accuracy: 0.7738 - val_loss: 1.2219 - val_accuracy: 0.5178\n",
            "Epoch 5/10\n",
            "634/634 [==============================] - 1625s 3s/step - loss: 0.4132 - accuracy: 0.8429 - val_loss: 1.4440 - val_accuracy: 0.5089\n",
            "Epoch 6/10\n",
            "634/634 [==============================] - 1654s 3s/step - loss: 0.3150 - accuracy: 0.8848 - val_loss: 1.6948 - val_accuracy: 0.4876\n",
            "Epoch 7/10\n",
            "634/634 [==============================] - 1659s 3s/step - loss: 0.2661 - accuracy: 0.9026 - val_loss: 1.8097 - val_accuracy: 0.4991\n",
            "Epoch 8/10\n",
            "634/634 [==============================] - 1666s 3s/step - loss: 0.1900 - accuracy: 0.9328 - val_loss: 1.9984 - val_accuracy: 0.4929\n",
            "Epoch 9/10\n",
            "634/634 [==============================] - 1656s 3s/step - loss: 0.1426 - accuracy: 0.9508 - val_loss: 2.0643 - val_accuracy: 0.4858\n",
            "Epoch 10/10\n",
            "634/634 [==============================] - 1664s 3s/step - loss: 0.1046 - accuracy: 0.9639 - val_loss: 2.3623 - val_accuracy: 0.4893\n"
          ],
          "name": "stdout"
        }
      ]
    },
    {
      "cell_type": "code",
      "metadata": {
        "id": "8XwxymCSw5CS",
        "colab_type": "code",
        "colab": {
          "base_uri": "https://localhost:8080/",
          "height": 69
        },
        "outputId": "5464db07-de08-4604-e0ad-a15d399244ff"
      },
      "source": [
        "test_loss, test_acc = model.evaluate(test_set)\n",
        "\n",
        "print('Test Loss: {}'.format(test_loss))\n",
        "print('Test Accuracy: {}'.format(test_acc))"
      ],
      "execution_count": 43,
      "outputs": [
        {
          "output_type": "stream",
          "text": [
            "36/36 [==============================] - 6s 179ms/step - loss: 2.1815 - accuracy: 0.5124\n",
            "Test Loss: 2.1814517974853516\n",
            "Test Accuracy: 0.5124334096908569\n"
          ],
          "name": "stdout"
        }
      ]
    },
    {
      "cell_type": "code",
      "metadata": {
        "id": "RBsJ3Rfju5qe",
        "colab_type": "code",
        "colab": {
          "base_uri": "https://localhost:8080/",
          "height": 541
        },
        "outputId": "3c9d6f0a-8d41-4015-a1ac-654fb57fd9a9"
      },
      "source": [
        "plot_metric(history, 'accuracy')\n",
        "plot_metric(history, 'loss')"
      ],
      "execution_count": 44,
      "outputs": [
        {
          "output_type": "display_data",
          "data": {
            "image/png": "[encoded data removed]",
            "text/plain": [
              "<Figure size 432x288 with 1 Axes>"
            ]
          },
          "metadata": {
            "tags": [],
            "needs_background": "light"
          }
        },
        {
          "output_type": "display_data",
          "data": {
            "image/png": "[encoded data removed]",
            "text/plain": [
              "<Figure size 432x288 with 1 Axes>"
            ]
          },
          "metadata": {
            "tags": [],
            "needs_background": "light"
          }
        }
      ]
    },
    {
      "cell_type": "code",
      "metadata": {
        "id": "TCPdmFOGuduA",
        "colab_type": "code",
        "colab": {}
      },
      "source": [
        ""
      ],
      "execution_count": 74,
      "outputs": []
    },
    {
      "cell_type": "code",
      "metadata": {
        "id": "a8SG26c9wpb0",
        "colab_type": "code",
        "colab": {}
      },
      "source": [
        "embed_size = 128\n",
        "\n",
        "model_simple = tf.keras.models.Sequential([\n",
        "    tf.keras.layers.Embedding(vocab_size + num_oov_buckets, embed_size, input_shape=[None]),\n",
        "    tf.keras.layers.GRU(128, return_sequences=True, ),\n",
        "    tf.keras.layers.GRU(128),\n",
        "    tf.keras.layers.Dense(3, activation='softmax')\n",
        "])\n",
        "\n",
        "model_simple.compile(loss='CategoricalCrossentropy', optimizer='adam', metrics=['accuracy'])\n",
        "\n",
        "history = model_simple.fit(train_set, validation_data=val_set, epochs=10)"
      ],
      "execution_count": null,
      "outputs": []
    }
  ]
}