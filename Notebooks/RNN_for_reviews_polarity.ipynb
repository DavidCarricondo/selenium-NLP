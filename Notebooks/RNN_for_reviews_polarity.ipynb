{
 "cells": [
  {
   "cell_type": "code",
   "execution_count": 2,
   "metadata": {
    "colab": {
     "base_uri": "https://localhost:8080/",
     "height": 258
    },
    "colab_type": "code",
    "id": "YG-j7nfqEnU3",
    "outputId": "9a97b6f0-0611-4a83-eb3b-c58f5cd86502"
   },
   "outputs": [
    {
     "name": "stdout",
     "output_type": "stream",
     "text": [
      "Go to this URL in a browser: https://accounts.google.com/o/oauth2/auth?client_id=947318989803-6bn6qk8qdgf4n4g3pfee6491hc0brc4i.apps.googleusercontent.com&redirect_uri=urn%3aietf%3awg%3aoauth%3a2.0%3aoob&response_type=code&scope=email%20https%3a%2f%2fwww.googleapis.com%2fauth%2fdocs.test%20https%3a%2f%2fwww.googleapis.com%2fauth%2fdrive%20https%3a%2f%2fwww.googleapis.com%2fauth%2fdrive.photos.readonly%20https%3a%2f%2fwww.googleapis.com%2fauth%2fpeopleapi.readonly\n",
      "\n",
      "Enter your authorization code:\n",
      "··········\n",
      "Mounted at /content/gdrive\n",
      "'Aurélien Géron - Hands-On Machine Learning with Scikit-Learn, Keras, and TensorFlow_ Concepts, Tools, and Techniques to Build Intelligent Systems-O’Reilly Media (2019).pdf'\n",
      "'Colab Notebooks'\n",
      " David_Carricondo_Resume.pdf\n",
      "'Documento sin título.gdoc'\n",
      " IH_careerpath\n",
      " IMG_20190624_004152.jpg\n",
      " session.wav\n",
      " sketch_data\n"
     ]
    }
   ],
   "source": [
    "from google.colab import drive\n",
    "drive.mount('/content/gdrive')\n",
    "!ls /content/gdrive/My\\ Drive/\n",
    "root_path = 'gdrive/My Drive/'"
   ]
  },
  {
   "cell_type": "code",
   "execution_count": 0,
   "metadata": {
    "colab": {},
    "colab_type": "code",
    "id": "Wki6p8PTkibX"
   },
   "outputs": [],
   "source": [
    "import os\n",
    "os.chdir('gdrive/My Drive/')"
   ]
  },
  {
   "cell_type": "code",
   "execution_count": 37,
   "metadata": {
    "colab": {},
    "colab_type": "code",
    "id": "0msTwWvAizJ1"
   },
   "outputs": [],
   "source": [
    "import tensorflow_datasets as tfds\n",
    "import tensorflow as tf\n",
    "import matplotlib.pyplot as plt\n"
   ]
  },
  {
   "cell_type": "markdown",
   "metadata": {
    "colab_type": "text",
    "id": "NZC1nAupkUIc"
   },
   "source": [
    "Create a function that plots the metrics of the model:\n"
   ]
  },
  {
   "cell_type": "code",
   "execution_count": 0,
   "metadata": {
    "colab": {},
    "colab_type": "code",
    "id": "BvkTcYk8j8JY"
   },
   "outputs": [],
   "source": [
    "def plot_metric(history, metric):\n",
    "  plt.plot(history.history[metric])\n",
    "  plt.plot(history.history['val_'+metric])\n",
    "  plt.xlabel('Epochs')\n",
    "  plt.ylabel(metric)\n",
    "  plt.legend([metric, 'val_'+metric])\n",
    "  plt.show()"
   ]
  },
  {
   "cell_type": "markdown",
   "metadata": {
    "colab_type": "text",
    "id": "C1Pdl5RIlMo0"
   },
   "source": [
    "LOAD THE DATASET"
   ]
  },
  {
   "cell_type": "code",
   "execution_count": 38,
   "metadata": {
    "colab": {
     "base_uri": "https://localhost:8080/",
     "height": 330,
     "referenced_widgets": [
      "bbcc41532f10486391d64dccd424d6b5",
      "d6d6c521f36e4f06b1122d9c718b7ae5",
      "b632cad9dfb24553a449a2a0cb06d5f7",
      "b2185a3dd85345a7a6394c519e062a1a",
      "307de1064ba24f3c94028b7c8180e1ba",
      "0b284f4308254bd3b91d11d79e49ee51",
      "f9337f815b684513ae1259810a724ba6",
      "583ac51d94c84fdbb2c2187d3671825c",
      "8d890f03f74044bbb61fb73881c24b45",
      "769dbdf31834466988a863fefe830ab4",
      "ede81101981e4ee9a052235f5291d9f4",
      "9117fd2e15d5432b95a9f06fe105ad64",
      "b288d43c26134735a6387afbaad2f034",
      "33c0842b01764d42ab084d60222abf3b",
      "61200bb3fbd247529a8dab62dcd7938e",
      "f395032234aa49a6b2f131a792d09910",
      "d89e2f6b8efa4e858dcefba369143105",
      "61bdad5f8bf04e2fb16969d000a82aaf",
      "88c50ab5321443759c7636e68027bda2",
      "a3f18b432e964071a990583ea7b33c0b",
      "80d0c1327d274a8a9e610f1c00a3bd76",
      "929f943bbe3c461381d2b83122015a1b",
      "cb9e676e14d240da9c1841839c0a1a3a",
      "abab8ba39dd741ca9a961a32ecbd5e04",
      "ec780fd47ab141c39377c04fb2912724",
      "f2c3fe41ea1d47d3ae124634d30c5620",
      "f2e69cb48d364044b7cfaf90ba97cc60",
      "0a0eb9bfdfb94a4aaac47145e06d6962",
      "982fc28051d4454ab5b9cbdd3ef96e22",
      "a4a5d60e990b40318f400e1e7077dbd8",
      "ffeacd6565ab4b99ab978a0264ba0a6e",
      "74d1018dc4924059a9604b2af573d9bf",
      "d5442228e20e4db3be8a5c862b41ac23",
      "3a3321c466eb46e4885f66c435d552bb",
      "201159a953d44211a5a96701a80cea3a",
      "76c3d7f221124534a5323fa9412ff9db",
      "7fd2fe9579d8420b8a71827a7d953433",
      "c66182c88203420ba2f0bdbe7fb22c68",
      "1f9783c5d01b4464846311b2c02b8b5e",
      "c7b6d6dda363484b97ae3be90c61700e",
      "191e82d27a9446bc91f5b162485f23e1",
      "f4fd1f66d068456f9d3e3d69f0ed630f",
      "d29a53a8452049008103763611818556",
      "7e62130c1397439296276693fdfaf519",
      "7d202be5f5244bd69f9a463827470a41",
      "0c73373549624347a4df29f33f46e3cb",
      "731c15c1ed374b58b0bc9cf271ea8dae",
      "d2aca36a26cf42e58b31f1aefa9ee070",
      "b4e29540879c4197b717ac299d945c8e",
      "4426f3344393457f9fed902e28064d38",
      "6494290b91944276b0879d114550a2a0",
      "eeaa4ffb22664935bb69cf6315ac619e",
      "90935121d5b5470da2a594c59219768a",
      "85c0f4c3ba10498ea46d6e4974e39d73",
      "7fd2b8e446804adcafd8a834e43684cd",
      "d2a641ad4f534c24837ed809de717e73",
      "789494e0186e4bdc9e5b9038b0f1d68c",
      "77183b5cc67d44028db76b55e2fe6a36",
      "e6b03ef4f28a41f6856c96be536cb3a7",
      "ec6f1e4fe6c840dfb1941941d99dbe72",
      "8527457280eb4aeeb83aa8ba3ab8d447",
      "de574f4cf3d04c5eba17ec0664daa7b1",
      "67ee7891db8d42589141dd666bde5be2",
      "5099814ba42b4a6b976300f0dd6b270a"
     ]
    },
    "colab_type": "code",
    "id": "mEzF0vcAlGEi",
    "outputId": "d09cd013-d2da-417e-d8c4-e234cf268b3c"
   },
   "outputs": [
    {
     "name": "stderr",
     "output_type": "stream",
     "text": [
      "WARNING:absl:TFDS datasets with text encoding are deprecated and will be removed in a future version. Instead, you should use the plain text version and tokenize the text using `tensorflow_text` (See: https://www.tensorflow.org/tutorials/tensorflow_text/intro#tfdata_example)\n"
     ]
    }
   ],
   "source": [
    "dataset, info = tfds.load('imdb_reviews/subwords8k', with_info=True,\n",
    "                          as_supervised=True)"
   ]
  },
  {
   "cell_type": "code",
   "execution_count": 6,
   "metadata": {
    "colab": {
     "base_uri": "https://localhost:8080/",
     "height": 1000
    },
    "colab_type": "code",
    "id": "NvVYeol2ldVA",
    "outputId": "0effbfeb-7520-4074-ee56-a7c73f644296"
   },
   "outputs": [
    {
     "name": "stdout",
     "output_type": "stream",
     "text": [
      "(<tf.Tensor: shape=(283,), dtype=int64, numpy=\n",
      "array([ 173,   29,  185,   13,  115, 1956, 8044,    3,  398, 1261, 5497,\n",
      "        423,    2,   15,   18, 4096, 3958,  637, 2657,  552, 2893, 4926,\n",
      "       2314, 1673, 4587,  137,   23, 4872, 5345,    2, 7996, 7277, 8004,\n",
      "       8012,  137,   23,  972, 5346, 5977, 1365, 8051,    2, 7998, 3780,\n",
      "       1947, 1747, 4411, 3743,    3, 5064, 7961,    7,   13, 2671, 4556,\n",
      "       3449, 1678,  572, 8037, 7968,    8,  604, 1006, 4002, 2618, 7974,\n",
      "       7994, 7974, 2893, 2618, 7974, 2475, 3912,    3, 4847, 2034, 2615,\n",
      "         66, 7974, 3201,    2,    5,   20, 1668, 5475, 7961,    5,   20,\n",
      "       4474,   20,  119,    6,    1, 2489, 1473, 1960,  323,    3,   12,\n",
      "       1167, 7968,   21, 4101,   14,  366,  342,   12,  284,  552, 7999,\n",
      "       4949, 3780, 3779, 3369, 8018,  625, 1979,    2,   78, 1259,    2,\n",
      "         12,  109, 7968,   21,  129,   12, 4101,  236,   14, 1682,  230,\n",
      "        392,    7, 4980, 1079, 1678,  572, 8037, 7968,    8, 1712,    9,\n",
      "       5795,  535,  106, 4002, 2618, 7974, 7994, 7974, 2893, 2618, 7974,\n",
      "       2475, 3912, 7961,    9,   55, 1296,  488,  569,    6, 5852, 1125,\n",
      "        272, 2148, 7961,   13,   45,   70,   31,    7, 1369,  267,   22,\n",
      "          4, 2346,    6,   14,  397,    5,  110,    4,  918, 7974, 1134,\n",
      "       7974,  557, 7716,  452,    6,   15,    7,  765, 2284,  181,    2,\n",
      "       8046, 8033,    2, 2144, 1077,  395,    5, 1060, 8029,  395,    6,\n",
      "         39,    3, 2478,  516,    9, 3499, 5991, 8029,   28,    4, 1250,\n",
      "       6148,    6,    4, 2479, 7974, 5884, 7961,  575,  152,    5,    1,\n",
      "        695,   51,  268,   29, 6749, 8029,   28,  224, 7968,    8, 1400,\n",
      "          6,    1,  362, 7974,  181, 7974,  609, 5353,  923, 2117,   45,\n",
      "       7399, 2331, 7968,  123, 1974,   48,    4,   32,   52,  229,  158,\n",
      "       4002, 2618, 7974, 7994, 7974, 2893, 2618, 7974, 2475, 3912, 7961,\n",
      "          9,    4,   32,  901,  101,   57, 1868, 7975])>, <tf.Tensor: shape=(), dtype=int64, numpy=1>)\n",
      "(<tf.Tensor: shape=(451,), dtype=int64, numpy=\n",
      "array([ 133, 2237,   64, 1229, 1795,    6,    4,  615, 7974, 1363, 7903,\n",
      "       7961, 5041,    2,  701, 5905,   11,  355, 6936, 7961,    1, 7551,\n",
      "       2931,   47,   13,  884,    9,  894,  708, 1121,   18,  246,    7,\n",
      "       1908, 7961,   11,  139,  246,    7,  509,    4, 4428, 2386, 1203,\n",
      "       4055,  351,   22,    4, 5092, 1391,    6, 6767, 8044,    3,  249,\n",
      "         41,  237,  356,   48,   30, 7860, 7961, 3330,    6,   32, 3201,\n",
      "          2,   15,   18,   41, 7759, 1637,  246, 1712,    7, 3968,    2,\n",
      "         22,  150,  502,    5,  841, 4081, 7961, 1370,  104, 6700, 8044,\n",
      "          3,  701, 5905,  179,    2,  854,    2, 6241, 2578,    8,  143,\n",
      "          6,  894,  708,  530, 7968,    8, 1669, 7860, 7961,  185,   11,\n",
      "       3397,    6,    1,  443,   28, 6035, 5025,  592, 6495,    9, 2097,\n",
      "        152, 3733,    5, 3103,   24,   10,   16,   10,   17,   19, 3103,\n",
      "          2, 1152,  124,    2,    9,  195,   13,   18, 3994,   40,  477,\n",
      "         11, 6469, 7760, 2078,    2,  126,  429,  255,  617,   11, 2958,\n",
      "        179,    3,   69, 3414,    8,    1, 2807, 7968,    8, 4417,   23,\n",
      "       4393, 7961,    5, 2579, 1245, 2353, 2827, 3272,   21,    4, 3359,\n",
      "         13, 7008,    8,  119, 3719,   25,    6, 2052,  999, 8030,    3,\n",
      "       4584,   59,  701, 5905,  179,    2,  854,    2,    9, 2004,   68,\n",
      "       5591,  551,   89, 6268,  895, 6469, 7760, 2078,    3, 3056, 3950,\n",
      "          8,    1, 4812,  241,    7, 7026, 7028,  472,   99,   87, 5324,\n",
      "          8,    7, 2188,  540,   23,  310,   28, 5479,  686, 8029,   58,\n",
      "       1838, 8044,    2,  701, 5905,  179, 7968,    8,  292, 4921, 7961,\n",
      "          5,  457,   23,  139,  241,    7,   35,    7,  483, 1803,    2,\n",
      "       1328,  466,   28,   50,  514,   58,   52,   15,   50,  512,    3,\n",
      "         19,   66, 7968,    8,  322,  567,    2,   11,   73,   42,  642,\n",
      "          8, 1617,   25,   30, 4891, 4198, 3449,  206,    2,   11,    4,\n",
      "       7582, 7961, 2803,    2,   57,    7, 7026,  256,    1,  219,   42,\n",
      "         57,   93, 1558,   50,    1, 5694,  194,  219,   13,    9, 1974,\n",
      "          6,    4, 5041,    2,   29,   55, 1612,   99,   53, 3414, 7961,\n",
      "         30, 3736, 7147,  472,    5,  103,   29,  140,  236,  399, 1328,\n",
      "         15, 3025, 3484,  964,   50,  512,   24,   10,   16,   10,   17,\n",
      "         62,    9,    4, 5449,   32,    5,   12,   70, 6559, 7961,  406,\n",
      "       1750,   11,  724, 1351,    7, 2697, 7961,   15,  237,    3,   69,\n",
      "          9,   45,    6,  894,  708,  530, 7968,    8,  107, 1583,  365,\n",
      "          2,    5, 3288, 1065, 1021, 2254,    8,  143,    6,   30, 5681,\n",
      "       1954,  106, 6417, 6476,   36, 6579,    2, 4011,  583,    2, 4525,\n",
      "       6257, 4050,  203,   47,  672,    3,  147,   82, 3036,  130,  701,\n",
      "       5905,  179,  120,    9,  517,   77,  254,  130,   19, 2781, 2854,\n",
      "       7402,  154, 2018, 1251,   11, 3397,    6,   30, 7860, 7961,  323,\n",
      "          2,    5,    9,  620, 1275,    1,  609,    6,    1, 2671,    6,\n",
      "        894,  708,  530, 7968,    8, 1883,   66,  343,  237, 4390, 7975])>, <tf.Tensor: shape=(), dtype=int64, numpy=1>)\n"
     ]
    },
    {
     "data": {
      "text/plain": [
       "[None, None]"
      ]
     },
     "execution_count": 6,
     "metadata": {
      "tags": []
     },
     "output_type": "execute_result"
    }
   ],
   "source": [
    "#Look at the data\n",
    "[print(e) for i,e in enumerate(dataset['test']) if i < 2 ]\n",
    "  "
   ]
  },
  {
   "cell_type": "markdown",
   "metadata": {
    "colab_type": "text",
    "id": "_xxdvQYQoRgo"
   },
   "source": [
    "It seems like the data is already encoded...\n",
    "Let's split it in training and testing\n"
   ]
  },
  {
   "cell_type": "code",
   "execution_count": 0,
   "metadata": {
    "colab": {},
    "colab_type": "code",
    "id": "HcRNkhT5ldJ4"
   },
   "outputs": [],
   "source": [
    "X_train = dataset['train']\n",
    "X_test = dataset['test']"
   ]
  },
  {
   "cell_type": "markdown",
   "metadata": {
    "colab_type": "text",
    "id": "IK4a_y7hoqRV"
   },
   "source": [
    "But the data comes with the encoder, which I can use for external data as well :)"
   ]
  },
  {
   "cell_type": "code",
   "execution_count": 8,
   "metadata": {
    "colab": {
     "base_uri": "https://localhost:8080/",
     "height": 34
    },
    "colab_type": "code",
    "id": "wVoj_S2ioyjI",
    "outputId": "20342cf9-7da6-43c9-d665-896e2cca7ec5"
   },
   "outputs": [
    {
     "data": {
      "text/plain": [
       "8185"
      ]
     },
     "execution_count": 8,
     "metadata": {
      "tags": []
     },
     "output_type": "execute_result"
    }
   ],
   "source": [
    "#Is an encoder with a vocab_size of 8185 words\n",
    "encoder = info.features['text'].encoder\n",
    "encoder.vocab_size"
   ]
  },
  {
   "cell_type": "markdown",
   "metadata": {
    "colab_type": "text",
    "id": "WCwzy62Ip3BJ"
   },
   "source": [
    "Let's try to decode the first two reviews:"
   ]
  },
  {
   "cell_type": "code",
   "execution_count": 9,
   "metadata": {
    "colab": {
     "base_uri": "https://localhost:8080/",
     "height": 71
    },
    "colab_type": "code",
    "id": "oTsI8nijp7A9",
    "outputId": "bccba31e-a51b-47e6-e77f-0ed994f5d997"
   },
   "outputs": [
    {
     "name": "stdout",
     "output_type": "stream",
     "text": [
      "This was an absolutely terrible movie. Don't be lured in by Christopher Walken or Michael Ironside. Both are great actors, but this must simply be their worst role in history. Even their great acting could not redeem this movie's ridiculous storyline. This movie is an early nineties US propaganda piece. The most pathetic scenes were those when the Columbian rebels were making their cases for revolutions. Maria Conchita Alonso appeared phony, and her pseudo-love affair with Walken was nothing but a pathetic emotional plug in a movie that was devoid of any real meaning. I am disappointed that there are movies like this, ruining actor's like Christopher Walken's good name. I could barely sit through it.\n",
      "I have been known to fall asleep during films, but this is usually due to a combination of things including, really tired, being warm and comfortable on the sette and having just eaten a lot. However on this occasion I fell asleep because the film was rubbish. The plot development was constant. Constantly slow and boring. Things seemed to happen, but with no explanation of what was causing them or why. I admit, I may have missed part of the film, but i watched the majority of it and everything just seemed to happen of its own accord without any real concern for anything else. I cant recommend this film at all.\n"
     ]
    }
   ],
   "source": [
    "for i, e in enumerate(X_train):\n",
    "  if i < 2:\n",
    "    print(encoder.decode(e[0]))\n",
    "  else: break"
   ]
  },
  {
   "cell_type": "code",
   "execution_count": 10,
   "metadata": {
    "colab": {
     "base_uri": "https://localhost:8080/",
     "height": 357
    },
    "colab_type": "code",
    "id": "2Qdb48ILsDhL",
    "outputId": "6a68b03c-5c8e-4dff-9177-1ada209f5b1a"
   },
   "outputs": [
    {
     "name": "stdout",
     "output_type": "stream",
     "text": [
      "62 -----> This \n",
      "18 -----> was \n",
      "41 -----> an \n",
      "604 -----> absolutely \n",
      "927 -----> terrible \n",
      "65 -----> movie\n",
      "3 -----> . \n",
      "644 -----> Don\n",
      "7968 -----> '\n",
      "21 -----> t \n",
      "35 -----> be \n",
      "5096 -----> lur\n",
      "36 -----> ed \n",
      "11 -----> in \n",
      "43 -----> by \n",
      "2948 -----> Christopher \n",
      "5240 -----> Walke\n",
      "102 -----> n \n",
      "50 -----> or \n",
      "681 -----> Michael \n"
     ]
    }
   ],
   "source": [
    "#Check the values of the first words of the first review\n",
    "for inrev, rev in enumerate(X_train):\n",
    "  if inrev==0:\n",
    "    for inword, word in enumerate(rev[0]):\n",
    "      if inword<20:\n",
    "          print(f'{word} -----> {encoder.decode([word])}')\n",
    "      else: break"
   ]
  },
  {
   "cell_type": "code",
   "execution_count": 11,
   "metadata": {
    "colab": {
     "base_uri": "https://localhost:8080/",
     "height": 51
    },
    "colab_type": "code",
    "id": "HyJ0JUNgsDVa",
    "outputId": "22116a01-5a78-4af3-db67-e29b992bc06a"
   },
   "outputs": [
    {
     "name": "stdout",
     "output_type": "stream",
     "text": [
      "<class 'list'>\n",
      "[2844, 327, 1, 2365]\n"
     ]
    }
   ],
   "source": [
    "#I wonder if the encoder broadcast to tensor objects:\n",
    "s = 'Here comes the sun'\n",
    "s_encoded = encoder.encode(s)\n",
    "print(type(s_encoded))\n",
    "print(s_encoded)"
   ]
  },
  {
   "cell_type": "code",
   "execution_count": 12,
   "metadata": {
    "colab": {
     "base_uri": "https://localhost:8080/",
     "height": 34
    },
    "colab_type": "code",
    "id": "xVl3Ls6TvtCl",
    "outputId": "0456edb3-f124-4e2a-cb5a-e2fc1ea0a792"
   },
   "outputs": [
    {
     "name": "stdout",
     "output_type": "stream",
     "text": [
      "<class 'tensorflow.python.framework.ops.EagerTensor'>\n"
     ]
    }
   ],
   "source": [
    "#Nope, but:\n",
    "s_tensor = tf.convert_to_tensor(s_encoded)\n",
    "print(type(s_tensor))"
   ]
  },
  {
   "cell_type": "code",
   "execution_count": 13,
   "metadata": {
    "colab": {
     "base_uri": "https://localhost:8080/",
     "height": 34
    },
    "colab_type": "code",
    "id": "RR-noEz9vs0v",
    "outputId": "3c16f2ca-ed06-4354-aab2-e6a88f7a6f3a"
   },
   "outputs": [
    {
     "name": "stdout",
     "output_type": "stream",
     "text": [
      "(<tf.Tensor: shape=(4,), dtype=int32, numpy=array([2844,  327,    1, 2365], dtype=int32)>, <tf.Tensor: shape=(), dtype=int32, numpy=0>)\n"
     ]
    }
   ],
   "source": [
    "#And this would be an input for the model (tuple of tensors or the type (input tensor, 0 tensor))\n",
    "print((s_tensor, tf.convert_to_tensor(0)))"
   ]
  },
  {
   "cell_type": "markdown",
   "metadata": {
    "colab_type": "text",
    "id": "iVx1_DUywll-"
   },
   "source": [
    "Now, let's prepare the batches of inputs for the model shuffeling and then padding for the last one (adding zeros until the length is equal to the longest review)\n"
   ]
  },
  {
   "cell_type": "code",
   "execution_count": 0,
   "metadata": {
    "colab": {},
    "colab_type": "code",
    "id": "ny6-bJf7p6kV"
   },
   "outputs": [],
   "source": [
    "BATCH_SIZE = 64\n",
    "\n",
    "X_train = X_train.shuffle(buffer_size=10000)\n",
    "X_train = X_train.padded_batch(BATCH_SIZE)\n",
    "\n",
    "X_test = X_test.padded_batch(BATCH_SIZE)"
   ]
  },
  {
   "cell_type": "markdown",
   "metadata": {
    "colab_type": "text",
    "id": "po6j4MrXlJ0T"
   },
   "source": [
    "Now we are ready to run a first model with keras API:"
   ]
  },
  {
   "cell_type": "code",
   "execution_count": 0,
   "metadata": {
    "colab": {},
    "colab_type": "code",
    "id": "lLhEdBEZj-7m"
   },
   "outputs": [],
   "source": [
    "model = tf.keras.Sequential([\n",
    "    #The embedding layer will have an input dimesion that is the vocabulary size, so the largest integer will not be larger than 8185\n",
    "    tf.keras.layers.Embedding(input_dim = encoder.vocab_size, output_dim = 64, embeddings_initializer='uniform'),\n",
    "    #Then we add a Long short-term memory layer with a bidirectional wrapper on it.\n",
    "    tf.keras.layers.Bidirectional(tf.keras.layers.LSTM(64), merge_mode='concat'),\n",
    "    #And then a dense layers\n",
    "    tf.keras.layers.Dense(64, activation='relu'),\n",
    "    #And the output dense layer with a linear activation (f(x) = x)\n",
    "    tf.keras.layers.Dense(1)\n",
    "])"
   ]
  },
  {
   "cell_type": "markdown",
   "metadata": {
    "colab_type": "text",
    "id": "qxI2PR-a7AJw"
   },
   "source": [
    "And compile the model using a Binary corssentropy loss function and we'll update with an Adam optimizer on the accuracy."
   ]
  },
  {
   "cell_type": "code",
   "execution_count": 0,
   "metadata": {
    "colab": {},
    "colab_type": "code",
    "id": "WbJusWa668sA"
   },
   "outputs": [],
   "source": [
    "model.compile(loss = tf.keras.losses.BinaryCrossentropy(from_logits=True),\n",
    "              optimizer = tf.keras.optimizers.Adam(1e-4),\n",
    "              metrics = ['accuracy'])"
   ]
  },
  {
   "cell_type": "code",
   "execution_count": 17,
   "metadata": {
    "colab": {
     "base_uri": "https://localhost:8080/",
     "height": 357
    },
    "colab_type": "code",
    "id": "HGj5rRCb68lA",
    "outputId": "747b23ca-2e9c-4538-f6a9-1abf66199913"
   },
   "outputs": [
    {
     "name": "stdout",
     "output_type": "stream",
     "text": [
      "Epoch 1/10\n",
      "391/391 [==============================] - 124s 318ms/step - loss: 0.6623 - accuracy: 0.5424 - val_loss: 0.5721 - val_accuracy: 0.7036\n",
      "Epoch 2/10\n",
      "391/391 [==============================] - 121s 310ms/step - loss: 0.4857 - accuracy: 0.7736 - val_loss: 0.3851 - val_accuracy: 0.8464\n",
      "Epoch 3/10\n",
      "391/391 [==============================] - 120s 307ms/step - loss: 0.2963 - accuracy: 0.8821 - val_loss: 0.3380 - val_accuracy: 0.8641\n",
      "Epoch 4/10\n",
      "391/391 [==============================] - 120s 307ms/step - loss: 0.2364 - accuracy: 0.9112 - val_loss: 0.3389 - val_accuracy: 0.8490\n",
      "Epoch 5/10\n",
      "391/391 [==============================] - 122s 312ms/step - loss: 0.2027 - accuracy: 0.9258 - val_loss: 0.3269 - val_accuracy: 0.8615\n",
      "Epoch 6/10\n",
      "391/391 [==============================] - 121s 310ms/step - loss: 0.1797 - accuracy: 0.9353 - val_loss: 0.3622 - val_accuracy: 0.8776\n",
      "Epoch 7/10\n",
      "391/391 [==============================] - 120s 307ms/step - loss: 0.1583 - accuracy: 0.9448 - val_loss: 0.3635 - val_accuracy: 0.8682\n",
      "Epoch 8/10\n",
      "391/391 [==============================] - 121s 311ms/step - loss: 0.1455 - accuracy: 0.9501 - val_loss: 0.4035 - val_accuracy: 0.8714\n",
      "Epoch 9/10\n",
      "391/391 [==============================] - 122s 313ms/step - loss: 0.1326 - accuracy: 0.9545 - val_loss: 0.5158 - val_accuracy: 0.8208\n",
      "Epoch 10/10\n",
      "391/391 [==============================] - 122s 313ms/step - loss: 0.1248 - accuracy: 0.9575 - val_loss: 0.4179 - val_accuracy: 0.8255\n"
     ]
    }
   ],
   "source": [
    "history = model.fit(X_train, epochs=10,\n",
    "                    validation_data=X_test, \n",
    "                    validation_steps=30)"
   ]
  },
  {
   "cell_type": "code",
   "execution_count": 19,
   "metadata": {
    "colab": {
     "base_uri": "https://localhost:8080/",
     "height": 68
    },
    "colab_type": "code",
    "id": "BkpwrIDB68ZP",
    "outputId": "2e382f72-bb1a-442c-8095-b049a2cdabf7"
   },
   "outputs": [
    {
     "name": "stdout",
     "output_type": "stream",
     "text": [
      "391/391 [==============================] - 50s 127ms/step - loss: 0.4255 - accuracy: 0.8302\n",
      "Test Loss: 0.4255288243293762\n",
      "Test Accuracy: 0.83024001121521\n"
     ]
    }
   ],
   "source": [
    "test_loss, test_acc = model.evaluate(X_test)\n",
    "\n",
    "print('Test Loss: {}'.format(test_loss))\n",
    "print('Test Accuracy: {}'.format(test_acc))"
   ]
  },
  {
   "cell_type": "code",
   "execution_count": 0,
   "metadata": {
    "colab": {},
    "colab_type": "code",
    "id": "wp5htOQDNVsP"
   },
   "outputs": [],
   "source": [
    "model.save('model_1ltsm.h5')"
   ]
  },
  {
   "cell_type": "code",
   "execution_count": 37,
   "metadata": {
    "colab": {
     "base_uri": "https://localhost:8080/",
     "height": 541
    },
    "colab_type": "code",
    "id": "LBfqVmJ_BFvC",
    "outputId": "e47fe5db-472c-41bc-8151-1721d98a09dd"
   },
   "outputs": [
    {
     "data": {
      "image/png": "[encoded data removed]",
      "text/plain": [
       "<Figure size 432x288 with 1 Axes>"
      ]
     },
     "metadata": {
      "needs_background": "light",
      "tags": []
     },
     "output_type": "display_data"
    },
    {
     "data": {
      "image/png": "[encoded data removed]",
      "text/plain": [
       "<Figure size 432x288 with 1 Axes>"
      ]
     },
     "metadata": {
      "needs_background": "light",
      "tags": []
     },
     "output_type": "display_data"
    }
   ],
   "source": [
    "plot_metric(history, 'accuracy')\n",
    "plot_metric(history, 'loss')"
   ]
  },
  {
   "cell_type": "markdown",
   "metadata": {
    "colab_type": "text",
    "id": "ussGYnYg6jWA"
   },
   "source": [
    "Let's check some predictions"
   ]
  },
  {
   "cell_type": "code",
   "execution_count": 44,
   "metadata": {
    "colab": {},
    "colab_type": "code",
    "id": "8w0dseJMiEUh"
   },
   "outputs": [],
   "source": [
    "#Function to add the padding at the end of the sentences:\n",
    "def pad_to_size(vec, size):\n",
    "  zeros = [0] * (size - len(vec))\n",
    "  vec.extend(zeros)\n",
    "  return vec\n",
    "#Function to get the predictions:\n",
    "def sample_predict(sample_pred_text, pad):\n",
    "  encoded_sample_pred_text = encoder.encode(sample_pred_text)\n",
    "  if pad:\n",
    "    encoded_sample_pred_text = pad_to_size(encoded_sample_pred_text, 64)\n",
    "  encoded_sample_pred_text = tf.cast(encoded_sample_pred_text, tf.float32)\n",
    "  predictions = model.predict(tf.expand_dims(encoded_sample_pred_text, 0))\n",
    "  return (predictions)"
   ]
  },
  {
   "cell_type": "code",
   "execution_count": 47,
   "metadata": {
    "colab": {
     "base_uri": "https://localhost:8080/",
     "height": 34
    },
    "colab_type": "code",
    "id": "yOr_VOw9C-rs",
    "outputId": "957f1805-f672-4787-a7a9-0d323f091ad5"
   },
   "outputs": [
    {
     "name": "stdout",
     "output_type": "stream",
     "text": [
      "[[0.5258698]]\n"
     ]
    }
   ],
   "source": [
    "# predict on a sample text without padding.\n",
    "\n",
    "sample_pred_text = ('The movie was cool. The animation and the graphics '\n",
    "                    'were out of this world. I would recommend this movie.')\n",
    "predictions = sample_predict(sample_pred_text, pad=False)\n",
    "print(predictions)"
   ]
  },
  {
   "cell_type": "code",
   "execution_count": 48,
   "metadata": {
    "colab": {
     "base_uri": "https://localhost:8080/",
     "height": 34
    },
    "colab_type": "code",
    "id": "_4w6vgqbDDWz",
    "outputId": "32aa22ec-1a4c-4df2-9cf5-7a68255400d0"
   },
   "outputs": [
    {
     "name": "stdout",
     "output_type": "stream",
     "text": [
      "[[2.0119548]]\n"
     ]
    }
   ],
   "source": [
    "# predict on a sample text with padding\n",
    "\n",
    "sample_pred_text = ('The movie was cool. The animation and the graphics '\n",
    "                    'were out of this world. I would recommend this movie.')\n",
    "predictions = sample_predict(sample_pred_text, pad=True)\n",
    "print(predictions)"
   ]
  },
  {
   "cell_type": "code",
   "execution_count": 50,
   "metadata": {
    "colab": {
     "base_uri": "https://localhost:8080/",
     "height": 34
    },
    "colab_type": "code",
    "id": "ZeJ5IAFeDyvY",
    "outputId": "642c9f78-ef47-460e-cc4a-6f1176d8d001"
   },
   "outputs": [
    {
     "name": "stdout",
     "output_type": "stream",
     "text": [
      "[[-3.2595968]]\n"
     ]
    }
   ],
   "source": [
    "#Predict from book review:\n",
    "\n",
    "sample_book = (\"It's not that it was bad, it's just that I wish the tiger had eaten him so the story wouldn't exist.I read half of it, and felt really impatient the whole time, skipping whole pages, and then I realized that I didn't have to keep going, which is as spiritual a moment as I could hope to get from this book.\")\n",
    "predictions = sample_predict(sample_book, pad=True)\n",
    "print(predictions)"
   ]
  },
  {
   "cell_type": "markdown",
   "metadata": {
    "colab_type": "text",
    "id": "PDTM7sUjp9Fz"
   },
   "source": [
    "Now we can try a new model with two LTSM layers stacked in which the first one can be set to 'return the sequences'. Instead of returning the output resulting in the last timestep, it will return the output for each timestep, resulting in a 3d array, because the timestep dimension is added (dim(batch_size, timestep, output):"
   ]
  },
  {
   "cell_type": "code",
   "execution_count": 0,
   "metadata": {
    "colab": {},
    "colab_type": "code",
    "id": "DRovfp-zkVlq"
   },
   "outputs": [],
   "source": [
    "model = tf.keras.Sequential([\n",
    "    tf.keras.layers.Embedding(encoder.vocab_size, 64),\n",
    "    #The two bidirectional LSTM layers, the first one of them returning all the sequences\n",
    "    tf.keras.layers.Bidirectional(tf.keras.layers.LSTM(64, return_sequences=True)),\n",
    "    tf.keras.layers.Bidirectional(tf.keras.layers.LSTM(32, return_sequences=False)),\n",
    "    tf.keras.layers.Dense(64, activation='relu'),\n",
    "    #We add a dropout regularization\n",
    "    tf.keras.layers.Dropout(0.5), \n",
    "    tf.keras.layers.Dense(1)\n",
    "])"
   ]
  },
  {
   "cell_type": "code",
   "execution_count": 0,
   "metadata": {
    "colab": {},
    "colab_type": "code",
    "id": "MvF48MvCrysl"
   },
   "outputs": [],
   "source": [
    "model.compile(loss = tf.keras.losses.BinaryCrossentropy(from_logits = True),\n",
    "              optimizer = tf.keras.optimizers.Adam(1e-4),\n",
    "              metrics = 'accuracy')"
   ]
  },
  {
   "cell_type": "code",
   "execution_count": 41,
   "metadata": {
    "colab": {
     "base_uri": "https://localhost:8080/",
     "height": 357
    },
    "colab_type": "code",
    "id": "aZG_u-Y8sRAz",
    "outputId": "ddbcec34-68f4-41c0-8475-df5a88a15beb"
   },
   "outputs": [
    {
     "name": "stdout",
     "output_type": "stream",
     "text": [
      "Epoch 1/10\n",
      "391/391 [==============================] - 233s 596ms/step - loss: 0.6708 - accuracy: 0.5184 - val_loss: 0.5336 - val_accuracy: 0.7667\n",
      "Epoch 2/10\n",
      "391/391 [==============================] - 229s 585ms/step - loss: 0.3921 - accuracy: 0.8373 - val_loss: 0.3517 - val_accuracy: 0.8604\n",
      "Epoch 3/10\n",
      "391/391 [==============================] - 228s 582ms/step - loss: 0.2720 - accuracy: 0.8968 - val_loss: 0.3877 - val_accuracy: 0.8422\n",
      "Epoch 4/10\n",
      "391/391 [==============================] - 229s 586ms/step - loss: 0.2253 - accuracy: 0.9207 - val_loss: 0.3595 - val_accuracy: 0.8698\n",
      "Epoch 5/10\n",
      "391/391 [==============================] - 228s 583ms/step - loss: 0.1848 - accuracy: 0.9378 - val_loss: 0.3838 - val_accuracy: 0.8687\n",
      "Epoch 6/10\n",
      "391/391 [==============================] - 229s 586ms/step - loss: 0.1589 - accuracy: 0.9510 - val_loss: 0.4203 - val_accuracy: 0.8656\n",
      "Epoch 7/10\n",
      "391/391 [==============================] - 230s 589ms/step - loss: 0.1458 - accuracy: 0.9557 - val_loss: 0.4314 - val_accuracy: 0.8641\n",
      "Epoch 8/10\n",
      "391/391 [==============================] - 229s 585ms/step - loss: 0.1222 - accuracy: 0.9660 - val_loss: 0.4683 - val_accuracy: 0.8583\n",
      "Epoch 9/10\n",
      "391/391 [==============================] - 228s 584ms/step - loss: 0.0979 - accuracy: 0.9753 - val_loss: 0.4886 - val_accuracy: 0.8484\n",
      "Epoch 10/10\n",
      "391/391 [==============================] - 229s 585ms/step - loss: 0.0918 - accuracy: 0.9761 - val_loss: 0.5239 - val_accuracy: 0.8479\n"
     ]
    }
   ],
   "source": [
    "history = model.fit(x=X_train, epochs=10, validation_data=X_test, validation_steps=30)"
   ]
  },
  {
   "cell_type": "code",
   "execution_count": 42,
   "metadata": {
    "colab": {
     "base_uri": "https://localhost:8080/",
     "height": 68
    },
    "colab_type": "code",
    "id": "BRb1nbnN3iOb",
    "outputId": "e782f80f-3841-46a5-8703-34fd175e75bf"
   },
   "outputs": [
    {
     "name": "stdout",
     "output_type": "stream",
     "text": [
      "391/391 [==============================] - 90s 229ms/step - loss: 0.5342 - accuracy: 0.8411\n",
      "Test Loss: 0.5341713428497314\n",
      "Test Accuracy: 0.8411200046539307\n"
     ]
    }
   ],
   "source": [
    "test_loss, test_acc = model.evaluate(X_test)\n",
    "\n",
    "print('Test Loss: {}'.format(test_loss))\n",
    "print('Test Accuracy: {}'.format(test_acc))"
   ]
  },
  {
   "cell_type": "code",
   "execution_count": 0,
   "metadata": {
    "colab": {},
    "colab_type": "code",
    "id": "ytCCdj67sjUM"
   },
   "outputs": [],
   "source": [
    "model.save('model_2ltsm.h5')"
   ]
  },
  {
   "cell_type": "code",
   "execution_count": 44,
   "metadata": {
    "colab": {
     "base_uri": "https://localhost:8080/",
     "height": 541
    },
    "colab_type": "code",
    "id": "RqhfjRM1363w",
    "outputId": "3adde0f8-4964-4caa-a13d-18395607a83c"
   },
   "outputs": [
    {
     "data": {
      "image/png": "[encoded data removed]",
      "text/plain": [
       "<Figure size 432x288 with 1 Axes>"
      ]
     },
     "metadata": {
      "needs_background": "light",
      "tags": []
     },
     "output_type": "display_data"
    },
    {
     "data": {
      "image/png": "[encoded data removed]",
      "text/plain": [
       "<Figure size 432x288 with 1 Axes>"
      ]
     },
     "metadata": {
      "needs_background": "light",
      "tags": []
     },
     "output_type": "display_data"
    }
   ],
   "source": [
    "plot_metric(history, 'accuracy')\n",
    "plot_metric(history, 'loss')"
   ]
  },
  {
   "cell_type": "markdown",
   "metadata": {
    "colab_type": "text",
    "id": "9lDuwpAv5r1v"
   },
   "source": [
    "Let's look at some sample texts and see how the model is doing:"
   ]
  },
  {
   "cell_type": "code",
   "execution_count": 51,
   "metadata": {
    "colab": {
     "base_uri": "https://localhost:8080/",
     "height": 34
    },
    "colab_type": "code",
    "id": "ykUKnAoqbycW",
    "outputId": "e73ade74-0b41-40b1-9ded-3d792003cccb"
   },
   "outputs": [
    {
     "name": "stdout",
     "output_type": "stream",
     "text": [
      "[[-3.2595968]]\n"
     ]
    }
   ],
   "source": [
    "#Predict from book review:\n",
    "\n",
    "sample_book = (\"It's not that it was bad, it's just that I wish the tiger had eaten him so the story wouldn't exist.I read half of it, and felt really impatient the whole time, skipping whole pages, and then I realized that I didn't have to keep going, which is as spiritual a moment as I could hope to get from this book.\")\n",
    "predictions = sample_predict(sample_book, pad=True)\n",
    "print(predictions)"
   ]
  },
  {
   "cell_type": "code",
   "execution_count": 0,
   "metadata": {
    "colab": {},
    "colab_type": "code",
    "id": "sGfOHKPR5zzl"
   },
   "outputs": [],
   "source": [
    "#What about a big review?:\n",
    "sample_big = \"I was extremely surprised by this book. Let me tell you why (it's a funny story):On the Danish cover it says Pi's Liv (Pi's Life),\\\n",
    " but I hadn't noticed the apostrophe, so I thought it said Pis Liv (Piss Life) and I thought that was an interesting title at least, so perhaps I \\\n",
    " should give it a go. So I did. And... what I read was not at all what I had expected (I thought it was a book about a boy in the slums or something).\\\n",
    "  It wasn't until I looked up the book in English I realized the title wasn't Piss Life. I was deceived for the longest time and, well, not only about this.\\\n",
    "  When I first read it I also thought it was based on a true story. I'm not sure why I thought that, I must have misread something (I vaguely recall\\\n",
    "   thinking the prologue was instead an introduction). It was a sad (and ehm, slightly humiliating) day when I discovered the truth lay elsewhere. I guess\\\n",
    "    your romantic beliefs must die someday, and that was the day for me.See, it's easier to believe in the world and be optimistic about it, when you also believe\\\n",
    "     that world capable of containing a boy and a tiger co-existing on a lifeboat for 7 months and surviving. The truth is this book probably changed my life, not \\\n",
    "     in any grand, extraordinary way. But with the small things, the small observations. Like how he was afraid to run out of paper, to document his days in the lifeboat,\\\n",
    "      and instead he ran out of ink. Like how he chose to embrace three religions, not just one. This book, and Pi especially, represent and embody a way of life that I admire.\\\n",
    "       It's not about believing in God, but about what it takes to believe in something, anything really. Yourself, the world, goodness, life, God.\\\n",
    "       If it seemed real enough for me to believe it had happened, perhaps the real world is indeed a place where it could happen. And that's what I want\\\n",
    "        to believe, even if real life might tell me otherwise.\""
   ]
  },
  {
   "cell_type": "code",
   "execution_count": 53,
   "metadata": {
    "colab": {
     "base_uri": "https://localhost:8080/",
     "height": 34
    },
    "colab_type": "code",
    "id": "aj4XU0KN3-uc",
    "outputId": "b03431af-31e7-4a4f-da70-d01f4051fd3d"
   },
   "outputs": [
    {
     "name": "stdout",
     "output_type": "stream",
     "text": [
      "[[4.392672]]\n"
     ]
    }
   ],
   "source": [
    "predictions = sample_predict(sample_big, pad=True)\n",
    "print(predictions)"
   ]
  },
  {
   "cell_type": "markdown",
   "metadata": {
    "colab_type": "text",
    "id": "apScLa-BFjEU"
   },
   "source": [
    "It's surprisingly accurate, even with a challenging review like that with many \"false negative\" words, it gets the overal positive message..."
   ]
  }
 ],
 "metadata": {
  "accelerator": "GPU",
  "colab": {
   "collapsed_sections": [],
   "name": "RNN for reviews polarity.ipynb",
   "provenance": []
  },
  "kernelspec": {
   "display_name": "Python 3",
   "language": "python",
   "name": "python3"
  },
  "language_info": {
   "codemirror_mode": {
    "name": "ipython",
    "version": 3
   },
   "file_extension": ".py",
   "mimetype": "text/x-python",
   "name": "python",
   "nbconvert_exporter": "python",
   "pygments_lexer": "ipython3",
   "version": "3.6.9"
  },
  "widgets": {
   "application/vnd.jupyter.widget-state+json": {
    "0a0eb9bfdfb94a4aaac47145e06d6962": {
     "model_module": "@jupyter-widgets/controls",
     "model_name": "HTMLModel",
     "state": {
      "_dom_classes": [],
      "_model_module": "@jupyter-widgets/controls",
      "_model_module_version": "1.5.0",
      "_model_name": "HTMLModel",
      "_view_count": null,
      "_view_module": "@jupyter-widgets/controls",
      "_view_module_version": "1.5.0",
      "_view_name": "HTMLView",
      "description": "",
      "description_tooltip": null,
      "layout": "IPY_MODEL_74d1018dc4924059a9604b2af573d9bf",
      "placeholder": "​",
      "style": "IPY_MODEL_ffeacd6565ab4b99ab978a0264ba0a6e",
      "value": " 5550/25000 [00:00&lt;00:00, 55499.79 examples/s]"
     }
    },
    "0b284f4308254bd3b91d11d79e49ee51": {
     "model_module": "@jupyter-widgets/base",
     "model_name": "LayoutModel",
     "state": {
      "_model_module": "@jupyter-widgets/base",
      "_model_module_version": "1.2.0",
      "_model_name": "LayoutModel",
      "_view_count": null,
      "_view_module": "@jupyter-widgets/base",
      "_view_module_version": "1.2.0",
      "_view_name": "LayoutView",
      "align_content": null,
      "align_items": null,
      "align_self": null,
      "border": null,
      "bottom": null,
      "display": null,
      "flex": null,
      "flex_flow": null,
      "grid_area": null,
      "grid_auto_columns": null,
      "grid_auto_flow": null,
      "grid_auto_rows": null,
      "grid_column": null,
      "grid_gap": null,
      "grid_row": null,
      "grid_template_areas": null,
      "grid_template_columns": null,
      "grid_template_rows": null,
      "height": null,
      "justify_content": null,
      "justify_items": null,
      "left": null,
      "margin": null,
      "max_height": null,
      "max_width": null,
      "min_height": null,
      "min_width": null,
      "object_fit": null,
      "object_position": null,
      "order": null,
      "overflow": null,
      "overflow_x": null,
      "overflow_y": null,
      "padding": null,
      "right": null,
      "top": null,
      "visibility": null,
      "width": null
     }
    },
    "0c73373549624347a4df29f33f46e3cb": {
     "model_module": "@jupyter-widgets/base",
     "model_name": "LayoutModel",
     "state": {
      "_model_module": "@jupyter-widgets/base",
      "_model_module_version": "1.2.0",
      "_model_name": "LayoutModel",
      "_view_count": null,
      "_view_module": "@jupyter-widgets/base",
      "_view_module_version": "1.2.0",
      "_view_name": "LayoutView",
      "align_content": null,
      "align_items": null,
      "align_self": null,
      "border": null,
      "bottom": null,
      "display": null,
      "flex": null,
      "flex_flow": null,
      "grid_area": null,
      "grid_auto_columns": null,
      "grid_auto_flow": null,
      "grid_auto_rows": null,
      "grid_column": null,
      "grid_gap": null,
      "grid_row": null,
      "grid_template_areas": null,
      "grid_template_columns": null,
      "grid_template_rows": null,
      "height": null,
      "justify_content": null,
      "justify_items": null,
      "left": null,
      "margin": null,
      "max_height": null,
      "max_width": null,
      "min_height": null,
      "min_width": null,
      "object_fit": null,
      "object_position": null,
      "order": null,
      "overflow": null,
      "overflow_x": null,
      "overflow_y": null,
      "padding": null,
      "right": null,
      "top": null,
      "visibility": null,
      "width": null
     }
    },
    "191e82d27a9446bc91f5b162485f23e1": {
     "model_module": "@jupyter-widgets/controls",
     "model_name": "HBoxModel",
     "state": {
      "_dom_classes": [],
      "_model_module": "@jupyter-widgets/controls",
      "_model_module_version": "1.5.0",
      "_model_name": "HBoxModel",
      "_view_count": null,
      "_view_module": "@jupyter-widgets/controls",
      "_view_module_version": "1.5.0",
      "_view_name": "HBoxView",
      "box_style": "",
      "children": [
       "IPY_MODEL_d29a53a8452049008103763611818556",
       "IPY_MODEL_7e62130c1397439296276693fdfaf519"
      ],
      "layout": "IPY_MODEL_f4fd1f66d068456f9d3e3d69f0ed630f"
     }
    },
    "1f9783c5d01b4464846311b2c02b8b5e": {
     "model_module": "@jupyter-widgets/controls",
     "model_name": "DescriptionStyleModel",
     "state": {
      "_model_module": "@jupyter-widgets/controls",
      "_model_module_version": "1.5.0",
      "_model_name": "DescriptionStyleModel",
      "_view_count": null,
      "_view_module": "@jupyter-widgets/base",
      "_view_module_version": "1.2.0",
      "_view_name": "StyleView",
      "description_width": ""
     }
    },
    "201159a953d44211a5a96701a80cea3a": {
     "model_module": "@jupyter-widgets/controls",
     "model_name": "FloatProgressModel",
     "state": {
      "_dom_classes": [],
      "_model_module": "@jupyter-widgets/controls",
      "_model_module_version": "1.5.0",
      "_model_name": "FloatProgressModel",
      "_view_count": null,
      "_view_module": "@jupyter-widgets/controls",
      "_view_module_version": "1.5.0",
      "_view_name": "ProgressView",
      "bar_style": "info",
      "description": "",
      "description_tooltip": null,
      "layout": "IPY_MODEL_c66182c88203420ba2f0bdbe7fb22c68",
      "max": 1,
      "min": 0,
      "orientation": "horizontal",
      "style": "IPY_MODEL_7fd2fe9579d8420b8a71827a7d953433",
      "value": 1
     }
    },
    "307de1064ba24f3c94028b7c8180e1ba": {
     "model_module": "@jupyter-widgets/controls",
     "model_name": "ProgressStyleModel",
     "state": {
      "_model_module": "@jupyter-widgets/controls",
      "_model_module_version": "1.5.0",
      "_model_name": "ProgressStyleModel",
      "_view_count": null,
      "_view_module": "@jupyter-widgets/base",
      "_view_module_version": "1.2.0",
      "_view_name": "StyleView",
      "bar_color": null,
      "description_width": "initial"
     }
    },
    "33c0842b01764d42ab084d60222abf3b": {
     "model_module": "@jupyter-widgets/base",
     "model_name": "LayoutModel",
     "state": {
      "_model_module": "@jupyter-widgets/base",
      "_model_module_version": "1.2.0",
      "_model_name": "LayoutModel",
      "_view_count": null,
      "_view_module": "@jupyter-widgets/base",
      "_view_module_version": "1.2.0",
      "_view_name": "LayoutView",
      "align_content": null,
      "align_items": null,
      "align_self": null,
      "border": null,
      "bottom": null,
      "display": null,
      "flex": null,
      "flex_flow": null,
      "grid_area": null,
      "grid_auto_columns": null,
      "grid_auto_flow": null,
      "grid_auto_rows": null,
      "grid_column": null,
      "grid_gap": null,
      "grid_row": null,
      "grid_template_areas": null,
      "grid_template_columns": null,
      "grid_template_rows": null,
      "height": null,
      "justify_content": null,
      "justify_items": null,
      "left": null,
      "margin": null,
      "max_height": null,
      "max_width": null,
      "min_height": null,
      "min_width": null,
      "object_fit": null,
      "object_position": null,
      "order": null,
      "overflow": null,
      "overflow_x": null,
      "overflow_y": null,
      "padding": null,
      "right": null,
      "top": null,
      "visibility": null,
      "width": null
     }
    },
    "3a3321c466eb46e4885f66c435d552bb": {
     "model_module": "@jupyter-widgets/base",
     "model_name": "LayoutModel",
     "state": {
      "_model_module": "@jupyter-widgets/base",
      "_model_module_version": "1.2.0",
      "_model_name": "LayoutModel",
      "_view_count": null,
      "_view_module": "@jupyter-widgets/base",
      "_view_module_version": "1.2.0",
      "_view_name": "LayoutView",
      "align_content": null,
      "align_items": null,
      "align_self": null,
      "border": null,
      "bottom": null,
      "display": null,
      "flex": null,
      "flex_flow": null,
      "grid_area": null,
      "grid_auto_columns": null,
      "grid_auto_flow": null,
      "grid_auto_rows": null,
      "grid_column": null,
      "grid_gap": null,
      "grid_row": null,
      "grid_template_areas": null,
      "grid_template_columns": null,
      "grid_template_rows": null,
      "height": null,
      "justify_content": null,
      "justify_items": null,
      "left": null,
      "margin": null,
      "max_height": null,
      "max_width": null,
      "min_height": null,
      "min_width": null,
      "object_fit": null,
      "object_position": null,
      "order": null,
      "overflow": null,
      "overflow_x": null,
      "overflow_y": null,
      "padding": null,
      "right": null,
      "top": null,
      "visibility": null,
      "width": null
     }
    },
    "4426f3344393457f9fed902e28064d38": {
     "model_module": "@jupyter-widgets/base",
     "model_name": "LayoutModel",
     "state": {
      "_model_module": "@jupyter-widgets/base",
      "_model_module_version": "1.2.0",
      "_model_name": "LayoutModel",
      "_view_count": null,
      "_view_module": "@jupyter-widgets/base",
      "_view_module_version": "1.2.0",
      "_view_name": "LayoutView",
      "align_content": null,
      "align_items": null,
      "align_self": null,
      "border": null,
      "bottom": null,
      "display": null,
      "flex": null,
      "flex_flow": null,
      "grid_area": null,
      "grid_auto_columns": null,
      "grid_auto_flow": null,
      "grid_auto_rows": null,
      "grid_column": null,
      "grid_gap": null,
      "grid_row": null,
      "grid_template_areas": null,
      "grid_template_columns": null,
      "grid_template_rows": null,
      "height": null,
      "justify_content": null,
      "justify_items": null,
      "left": null,
      "margin": null,
      "max_height": null,
      "max_width": null,
      "min_height": null,
      "min_width": null,
      "object_fit": null,
      "object_position": null,
      "order": null,
      "overflow": null,
      "overflow_x": null,
      "overflow_y": null,
      "padding": null,
      "right": null,
      "top": null,
      "visibility": null,
      "width": null
     }
    },
    "5099814ba42b4a6b976300f0dd6b270a": {
     "model_module": "@jupyter-widgets/base",
     "model_name": "LayoutModel",
     "state": {
      "_model_module": "@jupyter-widgets/base",
      "_model_module_version": "1.2.0",
      "_model_name": "LayoutModel",
      "_view_count": null,
      "_view_module": "@jupyter-widgets/base",
      "_view_module_version": "1.2.0",
      "_view_name": "LayoutView",
      "align_content": null,
      "align_items": null,
      "align_self": null,
      "border": null,
      "bottom": null,
      "display": null,
      "flex": null,
      "flex_flow": null,
      "grid_area": null,
      "grid_auto_columns": null,
      "grid_auto_flow": null,
      "grid_auto_rows": null,
      "grid_column": null,
      "grid_gap": null,
      "grid_row": null,
      "grid_template_areas": null,
      "grid_template_columns": null,
      "grid_template_rows": null,
      "height": null,
      "justify_content": null,
      "justify_items": null,
      "left": null,
      "margin": null,
      "max_height": null,
      "max_width": null,
      "min_height": null,
      "min_width": null,
      "object_fit": null,
      "object_position": null,
      "order": null,
      "overflow": null,
      "overflow_x": null,
      "overflow_y": null,
      "padding": null,
      "right": null,
      "top": null,
      "visibility": null,
      "width": null
     }
    },
    "583ac51d94c84fdbb2c2187d3671825c": {
     "model_module": "@jupyter-widgets/base",
     "model_name": "LayoutModel",
     "state": {
      "_model_module": "@jupyter-widgets/base",
      "_model_module_version": "1.2.0",
      "_model_name": "LayoutModel",
      "_view_count": null,
      "_view_module": "@jupyter-widgets/base",
      "_view_module_version": "1.2.0",
      "_view_name": "LayoutView",
      "align_content": null,
      "align_items": null,
      "align_self": null,
      "border": null,
      "bottom": null,
      "display": null,
      "flex": null,
      "flex_flow": null,
      "grid_area": null,
      "grid_auto_columns": null,
      "grid_auto_flow": null,
      "grid_auto_rows": null,
      "grid_column": null,
      "grid_gap": null,
      "grid_row": null,
      "grid_template_areas": null,
      "grid_template_columns": null,
      "grid_template_rows": null,
      "height": null,
      "justify_content": null,
      "justify_items": null,
      "left": null,
      "margin": null,
      "max_height": null,
      "max_width": null,
      "min_height": null,
      "min_width": null,
      "object_fit": null,
      "object_position": null,
      "order": null,
      "overflow": null,
      "overflow_x": null,
      "overflow_y": null,
      "padding": null,
      "right": null,
      "top": null,
      "visibility": null,
      "width": null
     }
    },
    "61200bb3fbd247529a8dab62dcd7938e": {
     "model_module": "@jupyter-widgets/controls",
     "model_name": "DescriptionStyleModel",
     "state": {
      "_model_module": "@jupyter-widgets/controls",
      "_model_module_version": "1.5.0",
      "_model_name": "DescriptionStyleModel",
      "_view_count": null,
      "_view_module": "@jupyter-widgets/base",
      "_view_module_version": "1.2.0",
      "_view_name": "StyleView",
      "description_width": ""
     }
    },
    "61bdad5f8bf04e2fb16969d000a82aaf": {
     "model_module": "@jupyter-widgets/base",
     "model_name": "LayoutModel",
     "state": {
      "_model_module": "@jupyter-widgets/base",
      "_model_module_version": "1.2.0",
      "_model_name": "LayoutModel",
      "_view_count": null,
      "_view_module": "@jupyter-widgets/base",
      "_view_module_version": "1.2.0",
      "_view_name": "LayoutView",
      "align_content": null,
      "align_items": null,
      "align_self": null,
      "border": null,
      "bottom": null,
      "display": null,
      "flex": null,
      "flex_flow": null,
      "grid_area": null,
      "grid_auto_columns": null,
      "grid_auto_flow": null,
      "grid_auto_rows": null,
      "grid_column": null,
      "grid_gap": null,
      "grid_row": null,
      "grid_template_areas": null,
      "grid_template_columns": null,
      "grid_template_rows": null,
      "height": null,
      "justify_content": null,
      "justify_items": null,
      "left": null,
      "margin": null,
      "max_height": null,
      "max_width": null,
      "min_height": null,
      "min_width": null,
      "object_fit": null,
      "object_position": null,
      "order": null,
      "overflow": null,
      "overflow_x": null,
      "overflow_y": null,
      "padding": null,
      "right": null,
      "top": null,
      "visibility": null,
      "width": null
     }
    },
    "6494290b91944276b0879d114550a2a0": {
     "model_module": "@jupyter-widgets/controls",
     "model_name": "FloatProgressModel",
     "state": {
      "_dom_classes": [],
      "_model_module": "@jupyter-widgets/controls",
      "_model_module_version": "1.5.0",
      "_model_name": "FloatProgressModel",
      "_view_count": null,
      "_view_module": "@jupyter-widgets/controls",
      "_view_module_version": "1.5.0",
      "_view_name": "ProgressView",
      "bar_style": "info",
      "description": "",
      "description_tooltip": null,
      "layout": "IPY_MODEL_85c0f4c3ba10498ea46d6e4974e39d73",
      "max": 1,
      "min": 0,
      "orientation": "horizontal",
      "style": "IPY_MODEL_90935121d5b5470da2a594c59219768a",
      "value": 1
     }
    },
    "67ee7891db8d42589141dd666bde5be2": {
     "model_module": "@jupyter-widgets/controls",
     "model_name": "DescriptionStyleModel",
     "state": {
      "_model_module": "@jupyter-widgets/controls",
      "_model_module_version": "1.5.0",
      "_model_name": "DescriptionStyleModel",
      "_view_count": null,
      "_view_module": "@jupyter-widgets/base",
      "_view_module_version": "1.2.0",
      "_view_name": "StyleView",
      "description_width": ""
     }
    },
    "731c15c1ed374b58b0bc9cf271ea8dae": {
     "model_module": "@jupyter-widgets/controls",
     "model_name": "DescriptionStyleModel",
     "state": {
      "_model_module": "@jupyter-widgets/controls",
      "_model_module_version": "1.5.0",
      "_model_name": "DescriptionStyleModel",
      "_view_count": null,
      "_view_module": "@jupyter-widgets/base",
      "_view_module_version": "1.2.0",
      "_view_name": "StyleView",
      "description_width": ""
     }
    },
    "74d1018dc4924059a9604b2af573d9bf": {
     "model_module": "@jupyter-widgets/base",
     "model_name": "LayoutModel",
     "state": {
      "_model_module": "@jupyter-widgets/base",
      "_model_module_version": "1.2.0",
      "_model_name": "LayoutModel",
      "_view_count": null,
      "_view_module": "@jupyter-widgets/base",
      "_view_module_version": "1.2.0",
      "_view_name": "LayoutView",
      "align_content": null,
      "align_items": null,
      "align_self": null,
      "border": null,
      "bottom": null,
      "display": null,
      "flex": null,
      "flex_flow": null,
      "grid_area": null,
      "grid_auto_columns": null,
      "grid_auto_flow": null,
      "grid_auto_rows": null,
      "grid_column": null,
      "grid_gap": null,
      "grid_row": null,
      "grid_template_areas": null,
      "grid_template_columns": null,
      "grid_template_rows": null,
      "height": null,
      "justify_content": null,
      "justify_items": null,
      "left": null,
      "margin": null,
      "max_height": null,
      "max_width": null,
      "min_height": null,
      "min_width": null,
      "object_fit": null,
      "object_position": null,
      "order": null,
      "overflow": null,
      "overflow_x": null,
      "overflow_y": null,
      "padding": null,
      "right": null,
      "top": null,
      "visibility": null,
      "width": null
     }
    },
    "769dbdf31834466988a863fefe830ab4": {
     "model_module": "@jupyter-widgets/base",
     "model_name": "LayoutModel",
     "state": {
      "_model_module": "@jupyter-widgets/base",
      "_model_module_version": "1.2.0",
      "_model_name": "LayoutModel",
      "_view_count": null,
      "_view_module": "@jupyter-widgets/base",
      "_view_module_version": "1.2.0",
      "_view_name": "LayoutView",
      "align_content": null,
      "align_items": null,
      "align_self": null,
      "border": null,
      "bottom": null,
      "display": null,
      "flex": null,
      "flex_flow": null,
      "grid_area": null,
      "grid_auto_columns": null,
      "grid_auto_flow": null,
      "grid_auto_rows": null,
      "grid_column": null,
      "grid_gap": null,
      "grid_row": null,
      "grid_template_areas": null,
      "grid_template_columns": null,
      "grid_template_rows": null,
      "height": null,
      "justify_content": null,
      "justify_items": null,
      "left": null,
      "margin": null,
      "max_height": null,
      "max_width": null,
      "min_height": null,
      "min_width": null,
      "object_fit": null,
      "object_position": null,
      "order": null,
      "overflow": null,
      "overflow_x": null,
      "overflow_y": null,
      "padding": null,
      "right": null,
      "top": null,
      "visibility": null,
      "width": null
     }
    },
    "76c3d7f221124534a5323fa9412ff9db": {
     "model_module": "@jupyter-widgets/controls",
     "model_name": "HTMLModel",
     "state": {
      "_dom_classes": [],
      "_model_module": "@jupyter-widgets/controls",
      "_model_module_version": "1.5.0",
      "_model_name": "HTMLModel",
      "_view_count": null,
      "_view_module": "@jupyter-widgets/controls",
      "_view_module_version": "1.5.0",
      "_view_name": "HTMLView",
      "description": "",
      "description_tooltip": null,
      "layout": "IPY_MODEL_c7b6d6dda363484b97ae3be90c61700e",
      "placeholder": "​",
      "style": "IPY_MODEL_1f9783c5d01b4464846311b2c02b8b5e",
      "value": " 25000/0 [00:37&lt;00:00, 836.95 examples/s]"
     }
    },
    "77183b5cc67d44028db76b55e2fe6a36": {
     "model_module": "@jupyter-widgets/base",
     "model_name": "LayoutModel",
     "state": {
      "_model_module": "@jupyter-widgets/base",
      "_model_module_version": "1.2.0",
      "_model_name": "LayoutModel",
      "_view_count": null,
      "_view_module": "@jupyter-widgets/base",
      "_view_module_version": "1.2.0",
      "_view_name": "LayoutView",
      "align_content": null,
      "align_items": null,
      "align_self": null,
      "border": null,
      "bottom": null,
      "display": null,
      "flex": null,
      "flex_flow": null,
      "grid_area": null,
      "grid_auto_columns": null,
      "grid_auto_flow": null,
      "grid_auto_rows": null,
      "grid_column": null,
      "grid_gap": null,
      "grid_row": null,
      "grid_template_areas": null,
      "grid_template_columns": null,
      "grid_template_rows": null,
      "height": null,
      "justify_content": null,
      "justify_items": null,
      "left": null,
      "margin": null,
      "max_height": null,
      "max_width": null,
      "min_height": null,
      "min_width": null,
      "object_fit": null,
      "object_position": null,
      "order": null,
      "overflow": null,
      "overflow_x": null,
      "overflow_y": null,
      "padding": null,
      "right": null,
      "top": null,
      "visibility": null,
      "width": null
     }
    },
    "789494e0186e4bdc9e5b9038b0f1d68c": {
     "model_module": "@jupyter-widgets/controls",
     "model_name": "HBoxModel",
     "state": {
      "_dom_classes": [],
      "_model_module": "@jupyter-widgets/controls",
      "_model_module_version": "1.5.0",
      "_model_name": "HBoxModel",
      "_view_count": null,
      "_view_module": "@jupyter-widgets/controls",
      "_view_module_version": "1.5.0",
      "_view_name": "HBoxView",
      "box_style": "",
      "children": [
       "IPY_MODEL_e6b03ef4f28a41f6856c96be536cb3a7",
       "IPY_MODEL_ec6f1e4fe6c840dfb1941941d99dbe72"
      ],
      "layout": "IPY_MODEL_77183b5cc67d44028db76b55e2fe6a36"
     }
    },
    "7d202be5f5244bd69f9a463827470a41": {
     "model_module": "@jupyter-widgets/controls",
     "model_name": "ProgressStyleModel",
     "state": {
      "_model_module": "@jupyter-widgets/controls",
      "_model_module_version": "1.5.0",
      "_model_name": "ProgressStyleModel",
      "_view_count": null,
      "_view_module": "@jupyter-widgets/base",
      "_view_module_version": "1.2.0",
      "_view_name": "StyleView",
      "bar_color": null,
      "description_width": "initial"
     }
    },
    "7e62130c1397439296276693fdfaf519": {
     "model_module": "@jupyter-widgets/controls",
     "model_name": "HTMLModel",
     "state": {
      "_dom_classes": [],
      "_model_module": "@jupyter-widgets/controls",
      "_model_module_version": "1.5.0",
      "_model_name": "HTMLModel",
      "_view_count": null,
      "_view_module": "@jupyter-widgets/controls",
      "_view_module_version": "1.5.0",
      "_view_name": "HTMLView",
      "description": "",
      "description_tooltip": null,
      "layout": "IPY_MODEL_d2aca36a26cf42e58b31f1aefa9ee070",
      "placeholder": "​",
      "style": "IPY_MODEL_731c15c1ed374b58b0bc9cf271ea8dae",
      "value": " 11000/25000 [00:00&lt;00:00, 109998.27 examples/s]"
     }
    },
    "7fd2b8e446804adcafd8a834e43684cd": {
     "model_module": "@jupyter-widgets/controls",
     "model_name": "DescriptionStyleModel",
     "state": {
      "_model_module": "@jupyter-widgets/controls",
      "_model_module_version": "1.5.0",
      "_model_name": "DescriptionStyleModel",
      "_view_count": null,
      "_view_module": "@jupyter-widgets/base",
      "_view_module_version": "1.2.0",
      "_view_name": "StyleView",
      "description_width": ""
     }
    },
    "7fd2fe9579d8420b8a71827a7d953433": {
     "model_module": "@jupyter-widgets/controls",
     "model_name": "ProgressStyleModel",
     "state": {
      "_model_module": "@jupyter-widgets/controls",
      "_model_module_version": "1.5.0",
      "_model_name": "ProgressStyleModel",
      "_view_count": null,
      "_view_module": "@jupyter-widgets/base",
      "_view_module_version": "1.2.0",
      "_view_name": "StyleView",
      "bar_color": null,
      "description_width": "initial"
     }
    },
    "80d0c1327d274a8a9e610f1c00a3bd76": {
     "model_module": "@jupyter-widgets/controls",
     "model_name": "ProgressStyleModel",
     "state": {
      "_model_module": "@jupyter-widgets/controls",
      "_model_module_version": "1.5.0",
      "_model_name": "ProgressStyleModel",
      "_view_count": null,
      "_view_module": "@jupyter-widgets/base",
      "_view_module_version": "1.2.0",
      "_view_name": "StyleView",
      "bar_color": null,
      "description_width": "initial"
     }
    },
    "8527457280eb4aeeb83aa8ba3ab8d447": {
     "model_module": "@jupyter-widgets/controls",
     "model_name": "ProgressStyleModel",
     "state": {
      "_model_module": "@jupyter-widgets/controls",
      "_model_module_version": "1.5.0",
      "_model_name": "ProgressStyleModel",
      "_view_count": null,
      "_view_module": "@jupyter-widgets/base",
      "_view_module_version": "1.2.0",
      "_view_name": "StyleView",
      "bar_color": null,
      "description_width": "initial"
     }
    },
    "85c0f4c3ba10498ea46d6e4974e39d73": {
     "model_module": "@jupyter-widgets/base",
     "model_name": "LayoutModel",
     "state": {
      "_model_module": "@jupyter-widgets/base",
      "_model_module_version": "1.2.0",
      "_model_name": "LayoutModel",
      "_view_count": null,
      "_view_module": "@jupyter-widgets/base",
      "_view_module_version": "1.2.0",
      "_view_name": "LayoutView",
      "align_content": null,
      "align_items": null,
      "align_self": null,
      "border": null,
      "bottom": null,
      "display": null,
      "flex": null,
      "flex_flow": null,
      "grid_area": null,
      "grid_auto_columns": null,
      "grid_auto_flow": null,
      "grid_auto_rows": null,
      "grid_column": null,
      "grid_gap": null,
      "grid_row": null,
      "grid_template_areas": null,
      "grid_template_columns": null,
      "grid_template_rows": null,
      "height": null,
      "justify_content": null,
      "justify_items": null,
      "left": null,
      "margin": null,
      "max_height": null,
      "max_width": null,
      "min_height": null,
      "min_width": null,
      "object_fit": null,
      "object_position": null,
      "order": null,
      "overflow": null,
      "overflow_x": null,
      "overflow_y": null,
      "padding": null,
      "right": null,
      "top": null,
      "visibility": null,
      "width": null
     }
    },
    "88c50ab5321443759c7636e68027bda2": {
     "model_module": "@jupyter-widgets/controls",
     "model_name": "FloatProgressModel",
     "state": {
      "_dom_classes": [],
      "_model_module": "@jupyter-widgets/controls",
      "_model_module_version": "1.5.0",
      "_model_name": "FloatProgressModel",
      "_view_count": null,
      "_view_module": "@jupyter-widgets/controls",
      "_view_module_version": "1.5.0",
      "_view_name": "ProgressView",
      "bar_style": "info",
      "description": "",
      "description_tooltip": null,
      "layout": "IPY_MODEL_929f943bbe3c461381d2b83122015a1b",
      "max": 1,
      "min": 0,
      "orientation": "horizontal",
      "style": "IPY_MODEL_80d0c1327d274a8a9e610f1c00a3bd76",
      "value": 1
     }
    },
    "8d890f03f74044bbb61fb73881c24b45": {
     "model_module": "@jupyter-widgets/controls",
     "model_name": "HBoxModel",
     "state": {
      "_dom_classes": [],
      "_model_module": "@jupyter-widgets/controls",
      "_model_module_version": "1.5.0",
      "_model_name": "HBoxModel",
      "_view_count": null,
      "_view_module": "@jupyter-widgets/controls",
      "_view_module_version": "1.5.0",
      "_view_name": "HBoxView",
      "box_style": "",
      "children": [
       "IPY_MODEL_ede81101981e4ee9a052235f5291d9f4",
       "IPY_MODEL_9117fd2e15d5432b95a9f06fe105ad64"
      ],
      "layout": "IPY_MODEL_769dbdf31834466988a863fefe830ab4"
     }
    },
    "90935121d5b5470da2a594c59219768a": {
     "model_module": "@jupyter-widgets/controls",
     "model_name": "ProgressStyleModel",
     "state": {
      "_model_module": "@jupyter-widgets/controls",
      "_model_module_version": "1.5.0",
      "_model_name": "ProgressStyleModel",
      "_view_count": null,
      "_view_module": "@jupyter-widgets/base",
      "_view_module_version": "1.2.0",
      "_view_name": "StyleView",
      "bar_color": null,
      "description_width": "initial"
     }
    },
    "9117fd2e15d5432b95a9f06fe105ad64": {
     "model_module": "@jupyter-widgets/controls",
     "model_name": "HTMLModel",
     "state": {
      "_dom_classes": [],
      "_model_module": "@jupyter-widgets/controls",
      "_model_module_version": "1.5.0",
      "_model_name": "HTMLModel",
      "_view_count": null,
      "_view_module": "@jupyter-widgets/controls",
      "_view_module_version": "1.5.0",
      "_view_name": "HTMLView",
      "description": "",
      "description_tooltip": null,
      "layout": "IPY_MODEL_f395032234aa49a6b2f131a792d09910",
      "placeholder": "​",
      "style": "IPY_MODEL_61200bb3fbd247529a8dab62dcd7938e",
      "value": " 80/80 [00:02&lt;00:00, 30.99 MiB/s]"
     }
    },
    "929f943bbe3c461381d2b83122015a1b": {
     "model_module": "@jupyter-widgets/base",
     "model_name": "LayoutModel",
     "state": {
      "_model_module": "@jupyter-widgets/base",
      "_model_module_version": "1.2.0",
      "_model_name": "LayoutModel",
      "_view_count": null,
      "_view_module": "@jupyter-widgets/base",
      "_view_module_version": "1.2.0",
      "_view_name": "LayoutView",
      "align_content": null,
      "align_items": null,
      "align_self": null,
      "border": null,
      "bottom": null,
      "display": null,
      "flex": null,
      "flex_flow": null,
      "grid_area": null,
      "grid_auto_columns": null,
      "grid_auto_flow": null,
      "grid_auto_rows": null,
      "grid_column": null,
      "grid_gap": null,
      "grid_row": null,
      "grid_template_areas": null,
      "grid_template_columns": null,
      "grid_template_rows": null,
      "height": null,
      "justify_content": null,
      "justify_items": null,
      "left": null,
      "margin": null,
      "max_height": null,
      "max_width": null,
      "min_height": null,
      "min_width": null,
      "object_fit": null,
      "object_position": null,
      "order": null,
      "overflow": null,
      "overflow_x": null,
      "overflow_y": null,
      "padding": null,
      "right": null,
      "top": null,
      "visibility": null,
      "width": null
     }
    },
    "982fc28051d4454ab5b9cbdd3ef96e22": {
     "model_module": "@jupyter-widgets/controls",
     "model_name": "ProgressStyleModel",
     "state": {
      "_model_module": "@jupyter-widgets/controls",
      "_model_module_version": "1.5.0",
      "_model_name": "ProgressStyleModel",
      "_view_count": null,
      "_view_module": "@jupyter-widgets/base",
      "_view_module_version": "1.2.0",
      "_view_name": "StyleView",
      "bar_color": null,
      "description_width": "initial"
     }
    },
    "a3f18b432e964071a990583ea7b33c0b": {
     "model_module": "@jupyter-widgets/controls",
     "model_name": "HTMLModel",
     "state": {
      "_dom_classes": [],
      "_model_module": "@jupyter-widgets/controls",
      "_model_module_version": "1.5.0",
      "_model_name": "HTMLModel",
      "_view_count": null,
      "_view_module": "@jupyter-widgets/controls",
      "_view_module_version": "1.5.0",
      "_view_name": "HTMLView",
      "description": "",
      "description_tooltip": null,
      "layout": "IPY_MODEL_abab8ba39dd741ca9a961a32ecbd5e04",
      "placeholder": "​",
      "style": "IPY_MODEL_cb9e676e14d240da9c1841839c0a1a3a",
      "value": " 25000/0 [00:38&lt;00:00, 769.60 examples/s]"
     }
    },
    "a4a5d60e990b40318f400e1e7077dbd8": {
     "model_module": "@jupyter-widgets/base",
     "model_name": "LayoutModel",
     "state": {
      "_model_module": "@jupyter-widgets/base",
      "_model_module_version": "1.2.0",
      "_model_name": "LayoutModel",
      "_view_count": null,
      "_view_module": "@jupyter-widgets/base",
      "_view_module_version": "1.2.0",
      "_view_name": "LayoutView",
      "align_content": null,
      "align_items": null,
      "align_self": null,
      "border": null,
      "bottom": null,
      "display": null,
      "flex": null,
      "flex_flow": null,
      "grid_area": null,
      "grid_auto_columns": null,
      "grid_auto_flow": null,
      "grid_auto_rows": null,
      "grid_column": null,
      "grid_gap": null,
      "grid_row": null,
      "grid_template_areas": null,
      "grid_template_columns": null,
      "grid_template_rows": null,
      "height": null,
      "justify_content": null,
      "justify_items": null,
      "left": null,
      "margin": null,
      "max_height": null,
      "max_width": null,
      "min_height": null,
      "min_width": null,
      "object_fit": null,
      "object_position": null,
      "order": null,
      "overflow": null,
      "overflow_x": null,
      "overflow_y": null,
      "padding": null,
      "right": null,
      "top": null,
      "visibility": null,
      "width": null
     }
    },
    "abab8ba39dd741ca9a961a32ecbd5e04": {
     "model_module": "@jupyter-widgets/base",
     "model_name": "LayoutModel",
     "state": {
      "_model_module": "@jupyter-widgets/base",
      "_model_module_version": "1.2.0",
      "_model_name": "LayoutModel",
      "_view_count": null,
      "_view_module": "@jupyter-widgets/base",
      "_view_module_version": "1.2.0",
      "_view_name": "LayoutView",
      "align_content": null,
      "align_items": null,
      "align_self": null,
      "border": null,
      "bottom": null,
      "display": null,
      "flex": null,
      "flex_flow": null,
      "grid_area": null,
      "grid_auto_columns": null,
      "grid_auto_flow": null,
      "grid_auto_rows": null,
      "grid_column": null,
      "grid_gap": null,
      "grid_row": null,
      "grid_template_areas": null,
      "grid_template_columns": null,
      "grid_template_rows": null,
      "height": null,
      "justify_content": null,
      "justify_items": null,
      "left": null,
      "margin": null,
      "max_height": null,
      "max_width": null,
      "min_height": null,
      "min_width": null,
      "object_fit": null,
      "object_position": null,
      "order": null,
      "overflow": null,
      "overflow_x": null,
      "overflow_y": null,
      "padding": null,
      "right": null,
      "top": null,
      "visibility": null,
      "width": null
     }
    },
    "b2185a3dd85345a7a6394c519e062a1a": {
     "model_module": "@jupyter-widgets/controls",
     "model_name": "HTMLModel",
     "state": {
      "_dom_classes": [],
      "_model_module": "@jupyter-widgets/controls",
      "_model_module_version": "1.5.0",
      "_model_name": "HTMLModel",
      "_view_count": null,
      "_view_module": "@jupyter-widgets/controls",
      "_view_module_version": "1.5.0",
      "_view_name": "HTMLView",
      "description": "",
      "description_tooltip": null,
      "layout": "IPY_MODEL_583ac51d94c84fdbb2c2187d3671825c",
      "placeholder": "​",
      "style": "IPY_MODEL_f9337f815b684513ae1259810a724ba6",
      "value": " 1/1 [00:02&lt;00:00,  2.61s/ url]"
     }
    },
    "b288d43c26134735a6387afbaad2f034": {
     "model_module": "@jupyter-widgets/controls",
     "model_name": "ProgressStyleModel",
     "state": {
      "_model_module": "@jupyter-widgets/controls",
      "_model_module_version": "1.5.0",
      "_model_name": "ProgressStyleModel",
      "_view_count": null,
      "_view_module": "@jupyter-widgets/base",
      "_view_module_version": "1.2.0",
      "_view_name": "StyleView",
      "bar_color": null,
      "description_width": "initial"
     }
    },
    "b4e29540879c4197b717ac299d945c8e": {
     "model_module": "@jupyter-widgets/controls",
     "model_name": "HBoxModel",
     "state": {
      "_dom_classes": [],
      "_model_module": "@jupyter-widgets/controls",
      "_model_module_version": "1.5.0",
      "_model_name": "HBoxModel",
      "_view_count": null,
      "_view_module": "@jupyter-widgets/controls",
      "_view_module_version": "1.5.0",
      "_view_name": "HBoxView",
      "box_style": "",
      "children": [
       "IPY_MODEL_6494290b91944276b0879d114550a2a0",
       "IPY_MODEL_eeaa4ffb22664935bb69cf6315ac619e"
      ],
      "layout": "IPY_MODEL_4426f3344393457f9fed902e28064d38"
     }
    },
    "b632cad9dfb24553a449a2a0cb06d5f7": {
     "model_module": "@jupyter-widgets/controls",
     "model_name": "FloatProgressModel",
     "state": {
      "_dom_classes": [],
      "_model_module": "@jupyter-widgets/controls",
      "_model_module_version": "1.5.0",
      "_model_name": "FloatProgressModel",
      "_view_count": null,
      "_view_module": "@jupyter-widgets/controls",
      "_view_module_version": "1.5.0",
      "_view_name": "ProgressView",
      "bar_style": "success",
      "description": "Dl Completed...: 100%",
      "description_tooltip": null,
      "layout": "IPY_MODEL_0b284f4308254bd3b91d11d79e49ee51",
      "max": 1,
      "min": 0,
      "orientation": "horizontal",
      "style": "IPY_MODEL_307de1064ba24f3c94028b7c8180e1ba",
      "value": 1
     }
    },
    "bbcc41532f10486391d64dccd424d6b5": {
     "model_module": "@jupyter-widgets/controls",
     "model_name": "HBoxModel",
     "state": {
      "_dom_classes": [],
      "_model_module": "@jupyter-widgets/controls",
      "_model_module_version": "1.5.0",
      "_model_name": "HBoxModel",
      "_view_count": null,
      "_view_module": "@jupyter-widgets/controls",
      "_view_module_version": "1.5.0",
      "_view_name": "HBoxView",
      "box_style": "",
      "children": [
       "IPY_MODEL_b632cad9dfb24553a449a2a0cb06d5f7",
       "IPY_MODEL_b2185a3dd85345a7a6394c519e062a1a"
      ],
      "layout": "IPY_MODEL_d6d6c521f36e4f06b1122d9c718b7ae5"
     }
    },
    "c66182c88203420ba2f0bdbe7fb22c68": {
     "model_module": "@jupyter-widgets/base",
     "model_name": "LayoutModel",
     "state": {
      "_model_module": "@jupyter-widgets/base",
      "_model_module_version": "1.2.0",
      "_model_name": "LayoutModel",
      "_view_count": null,
      "_view_module": "@jupyter-widgets/base",
      "_view_module_version": "1.2.0",
      "_view_name": "LayoutView",
      "align_content": null,
      "align_items": null,
      "align_self": null,
      "border": null,
      "bottom": null,
      "display": null,
      "flex": null,
      "flex_flow": null,
      "grid_area": null,
      "grid_auto_columns": null,
      "grid_auto_flow": null,
      "grid_auto_rows": null,
      "grid_column": null,
      "grid_gap": null,
      "grid_row": null,
      "grid_template_areas": null,
      "grid_template_columns": null,
      "grid_template_rows": null,
      "height": null,
      "justify_content": null,
      "justify_items": null,
      "left": null,
      "margin": null,
      "max_height": null,
      "max_width": null,
      "min_height": null,
      "min_width": null,
      "object_fit": null,
      "object_position": null,
      "order": null,
      "overflow": null,
      "overflow_x": null,
      "overflow_y": null,
      "padding": null,
      "right": null,
      "top": null,
      "visibility": null,
      "width": null
     }
    },
    "c7b6d6dda363484b97ae3be90c61700e": {
     "model_module": "@jupyter-widgets/base",
     "model_name": "LayoutModel",
     "state": {
      "_model_module": "@jupyter-widgets/base",
      "_model_module_version": "1.2.0",
      "_model_name": "LayoutModel",
      "_view_count": null,
      "_view_module": "@jupyter-widgets/base",
      "_view_module_version": "1.2.0",
      "_view_name": "LayoutView",
      "align_content": null,
      "align_items": null,
      "align_self": null,
      "border": null,
      "bottom": null,
      "display": null,
      "flex": null,
      "flex_flow": null,
      "grid_area": null,
      "grid_auto_columns": null,
      "grid_auto_flow": null,
      "grid_auto_rows": null,
      "grid_column": null,
      "grid_gap": null,
      "grid_row": null,
      "grid_template_areas": null,
      "grid_template_columns": null,
      "grid_template_rows": null,
      "height": null,
      "justify_content": null,
      "justify_items": null,
      "left": null,
      "margin": null,
      "max_height": null,
      "max_width": null,
      "min_height": null,
      "min_width": null,
      "object_fit": null,
      "object_position": null,
      "order": null,
      "overflow": null,
      "overflow_x": null,
      "overflow_y": null,
      "padding": null,
      "right": null,
      "top": null,
      "visibility": null,
      "width": null
     }
    },
    "cb9e676e14d240da9c1841839c0a1a3a": {
     "model_module": "@jupyter-widgets/controls",
     "model_name": "DescriptionStyleModel",
     "state": {
      "_model_module": "@jupyter-widgets/controls",
      "_model_module_version": "1.5.0",
      "_model_name": "DescriptionStyleModel",
      "_view_count": null,
      "_view_module": "@jupyter-widgets/base",
      "_view_module_version": "1.2.0",
      "_view_name": "StyleView",
      "description_width": ""
     }
    },
    "d29a53a8452049008103763611818556": {
     "model_module": "@jupyter-widgets/controls",
     "model_name": "FloatProgressModel",
     "state": {
      "_dom_classes": [],
      "_model_module": "@jupyter-widgets/controls",
      "_model_module_version": "1.5.0",
      "_model_name": "FloatProgressModel",
      "_view_count": null,
      "_view_module": "@jupyter-widgets/controls",
      "_view_module_version": "1.5.0",
      "_view_name": "ProgressView",
      "bar_style": "danger",
      "description": " 44%",
      "description_tooltip": null,
      "layout": "IPY_MODEL_0c73373549624347a4df29f33f46e3cb",
      "max": 25000,
      "min": 0,
      "orientation": "horizontal",
      "style": "IPY_MODEL_7d202be5f5244bd69f9a463827470a41",
      "value": 11000
     }
    },
    "d2a641ad4f534c24837ed809de717e73": {
     "model_module": "@jupyter-widgets/base",
     "model_name": "LayoutModel",
     "state": {
      "_model_module": "@jupyter-widgets/base",
      "_model_module_version": "1.2.0",
      "_model_name": "LayoutModel",
      "_view_count": null,
      "_view_module": "@jupyter-widgets/base",
      "_view_module_version": "1.2.0",
      "_view_name": "LayoutView",
      "align_content": null,
      "align_items": null,
      "align_self": null,
      "border": null,
      "bottom": null,
      "display": null,
      "flex": null,
      "flex_flow": null,
      "grid_area": null,
      "grid_auto_columns": null,
      "grid_auto_flow": null,
      "grid_auto_rows": null,
      "grid_column": null,
      "grid_gap": null,
      "grid_row": null,
      "grid_template_areas": null,
      "grid_template_columns": null,
      "grid_template_rows": null,
      "height": null,
      "justify_content": null,
      "justify_items": null,
      "left": null,
      "margin": null,
      "max_height": null,
      "max_width": null,
      "min_height": null,
      "min_width": null,
      "object_fit": null,
      "object_position": null,
      "order": null,
      "overflow": null,
      "overflow_x": null,
      "overflow_y": null,
      "padding": null,
      "right": null,
      "top": null,
      "visibility": null,
      "width": null
     }
    },
    "d2aca36a26cf42e58b31f1aefa9ee070": {
     "model_module": "@jupyter-widgets/base",
     "model_name": "LayoutModel",
     "state": {
      "_model_module": "@jupyter-widgets/base",
      "_model_module_version": "1.2.0",
      "_model_name": "LayoutModel",
      "_view_count": null,
      "_view_module": "@jupyter-widgets/base",
      "_view_module_version": "1.2.0",
      "_view_name": "LayoutView",
      "align_content": null,
      "align_items": null,
      "align_self": null,
      "border": null,
      "bottom": null,
      "display": null,
      "flex": null,
      "flex_flow": null,
      "grid_area": null,
      "grid_auto_columns": null,
      "grid_auto_flow": null,
      "grid_auto_rows": null,
      "grid_column": null,
      "grid_gap": null,
      "grid_row": null,
      "grid_template_areas": null,
      "grid_template_columns": null,
      "grid_template_rows": null,
      "height": null,
      "justify_content": null,
      "justify_items": null,
      "left": null,
      "margin": null,
      "max_height": null,
      "max_width": null,
      "min_height": null,
      "min_width": null,
      "object_fit": null,
      "object_position": null,
      "order": null,
      "overflow": null,
      "overflow_x": null,
      "overflow_y": null,
      "padding": null,
      "right": null,
      "top": null,
      "visibility": null,
      "width": null
     }
    },
    "d5442228e20e4db3be8a5c862b41ac23": {
     "model_module": "@jupyter-widgets/controls",
     "model_name": "HBoxModel",
     "state": {
      "_dom_classes": [],
      "_model_module": "@jupyter-widgets/controls",
      "_model_module_version": "1.5.0",
      "_model_name": "HBoxModel",
      "_view_count": null,
      "_view_module": "@jupyter-widgets/controls",
      "_view_module_version": "1.5.0",
      "_view_name": "HBoxView",
      "box_style": "",
      "children": [
       "IPY_MODEL_201159a953d44211a5a96701a80cea3a",
       "IPY_MODEL_76c3d7f221124534a5323fa9412ff9db"
      ],
      "layout": "IPY_MODEL_3a3321c466eb46e4885f66c435d552bb"
     }
    },
    "d6d6c521f36e4f06b1122d9c718b7ae5": {
     "model_module": "@jupyter-widgets/base",
     "model_name": "LayoutModel",
     "state": {
      "_model_module": "@jupyter-widgets/base",
      "_model_module_version": "1.2.0",
      "_model_name": "LayoutModel",
      "_view_count": null,
      "_view_module": "@jupyter-widgets/base",
      "_view_module_version": "1.2.0",
      "_view_name": "LayoutView",
      "align_content": null,
      "align_items": null,
      "align_self": null,
      "border": null,
      "bottom": null,
      "display": null,
      "flex": null,
      "flex_flow": null,
      "grid_area": null,
      "grid_auto_columns": null,
      "grid_auto_flow": null,
      "grid_auto_rows": null,
      "grid_column": null,
      "grid_gap": null,
      "grid_row": null,
      "grid_template_areas": null,
      "grid_template_columns": null,
      "grid_template_rows": null,
      "height": null,
      "justify_content": null,
      "justify_items": null,
      "left": null,
      "margin": null,
      "max_height": null,
      "max_width": null,
      "min_height": null,
      "min_width": null,
      "object_fit": null,
      "object_position": null,
      "order": null,
      "overflow": null,
      "overflow_x": null,
      "overflow_y": null,
      "padding": null,
      "right": null,
      "top": null,
      "visibility": null,
      "width": null
     }
    },
    "d89e2f6b8efa4e858dcefba369143105": {
     "model_module": "@jupyter-widgets/controls",
     "model_name": "HBoxModel",
     "state": {
      "_dom_classes": [],
      "_model_module": "@jupyter-widgets/controls",
      "_model_module_version": "1.5.0",
      "_model_name": "HBoxModel",
      "_view_count": null,
      "_view_module": "@jupyter-widgets/controls",
      "_view_module_version": "1.5.0",
      "_view_name": "HBoxView",
      "box_style": "",
      "children": [
       "IPY_MODEL_88c50ab5321443759c7636e68027bda2",
       "IPY_MODEL_a3f18b432e964071a990583ea7b33c0b"
      ],
      "layout": "IPY_MODEL_61bdad5f8bf04e2fb16969d000a82aaf"
     }
    },
    "de574f4cf3d04c5eba17ec0664daa7b1": {
     "model_module": "@jupyter-widgets/base",
     "model_name": "LayoutModel",
     "state": {
      "_model_module": "@jupyter-widgets/base",
      "_model_module_version": "1.2.0",
      "_model_name": "LayoutModel",
      "_view_count": null,
      "_view_module": "@jupyter-widgets/base",
      "_view_module_version": "1.2.0",
      "_view_name": "LayoutView",
      "align_content": null,
      "align_items": null,
      "align_self": null,
      "border": null,
      "bottom": null,
      "display": null,
      "flex": null,
      "flex_flow": null,
      "grid_area": null,
      "grid_auto_columns": null,
      "grid_auto_flow": null,
      "grid_auto_rows": null,
      "grid_column": null,
      "grid_gap": null,
      "grid_row": null,
      "grid_template_areas": null,
      "grid_template_columns": null,
      "grid_template_rows": null,
      "height": null,
      "justify_content": null,
      "justify_items": null,
      "left": null,
      "margin": null,
      "max_height": null,
      "max_width": null,
      "min_height": null,
      "min_width": null,
      "object_fit": null,
      "object_position": null,
      "order": null,
      "overflow": null,
      "overflow_x": null,
      "overflow_y": null,
      "padding": null,
      "right": null,
      "top": null,
      "visibility": null,
      "width": null
     }
    },
    "e6b03ef4f28a41f6856c96be536cb3a7": {
     "model_module": "@jupyter-widgets/controls",
     "model_name": "FloatProgressModel",
     "state": {
      "_dom_classes": [],
      "_model_module": "@jupyter-widgets/controls",
      "_model_module_version": "1.5.0",
      "_model_name": "FloatProgressModel",
      "_view_count": null,
      "_view_module": "@jupyter-widgets/controls",
      "_view_module_version": "1.5.0",
      "_view_name": "ProgressView",
      "bar_style": "danger",
      "description": " 56%",
      "description_tooltip": null,
      "layout": "IPY_MODEL_de574f4cf3d04c5eba17ec0664daa7b1",
      "max": 50000,
      "min": 0,
      "orientation": "horizontal",
      "style": "IPY_MODEL_8527457280eb4aeeb83aa8ba3ab8d447",
      "value": 28008
     }
    },
    "ec6f1e4fe6c840dfb1941941d99dbe72": {
     "model_module": "@jupyter-widgets/controls",
     "model_name": "HTMLModel",
     "state": {
      "_dom_classes": [],
      "_model_module": "@jupyter-widgets/controls",
      "_model_module_version": "1.5.0",
      "_model_name": "HTMLModel",
      "_view_count": null,
      "_view_module": "@jupyter-widgets/controls",
      "_view_module_version": "1.5.0",
      "_view_name": "HTMLView",
      "description": "",
      "description_tooltip": null,
      "layout": "IPY_MODEL_5099814ba42b4a6b976300f0dd6b270a",
      "placeholder": "​",
      "style": "IPY_MODEL_67ee7891db8d42589141dd666bde5be2",
      "value": " 28008/50000 [00:07&lt;25:40, 14.27 examples/s]"
     }
    },
    "ec780fd47ab141c39377c04fb2912724": {
     "model_module": "@jupyter-widgets/controls",
     "model_name": "HBoxModel",
     "state": {
      "_dom_classes": [],
      "_model_module": "@jupyter-widgets/controls",
      "_model_module_version": "1.5.0",
      "_model_name": "HBoxModel",
      "_view_count": null,
      "_view_module": "@jupyter-widgets/controls",
      "_view_module_version": "1.5.0",
      "_view_name": "HBoxView",
      "box_style": "",
      "children": [
       "IPY_MODEL_f2e69cb48d364044b7cfaf90ba97cc60",
       "IPY_MODEL_0a0eb9bfdfb94a4aaac47145e06d6962"
      ],
      "layout": "IPY_MODEL_f2c3fe41ea1d47d3ae124634d30c5620"
     }
    },
    "ede81101981e4ee9a052235f5291d9f4": {
     "model_module": "@jupyter-widgets/controls",
     "model_name": "FloatProgressModel",
     "state": {
      "_dom_classes": [],
      "_model_module": "@jupyter-widgets/controls",
      "_model_module_version": "1.5.0",
      "_model_name": "FloatProgressModel",
      "_view_count": null,
      "_view_module": "@jupyter-widgets/controls",
      "_view_module_version": "1.5.0",
      "_view_name": "ProgressView",
      "bar_style": "success",
      "description": "Dl Size...: 100%",
      "description_tooltip": null,
      "layout": "IPY_MODEL_33c0842b01764d42ab084d60222abf3b",
      "max": 1,
      "min": 0,
      "orientation": "horizontal",
      "style": "IPY_MODEL_b288d43c26134735a6387afbaad2f034",
      "value": 1
     }
    },
    "eeaa4ffb22664935bb69cf6315ac619e": {
     "model_module": "@jupyter-widgets/controls",
     "model_name": "HTMLModel",
     "state": {
      "_dom_classes": [],
      "_model_module": "@jupyter-widgets/controls",
      "_model_module_version": "1.5.0",
      "_model_name": "HTMLModel",
      "_view_count": null,
      "_view_module": "@jupyter-widgets/controls",
      "_view_module_version": "1.5.0",
      "_view_name": "HTMLView",
      "description": "",
      "description_tooltip": null,
      "layout": "IPY_MODEL_d2a641ad4f534c24837ed809de717e73",
      "placeholder": "​",
      "style": "IPY_MODEL_7fd2b8e446804adcafd8a834e43684cd",
      "value": " 50000/0 [01:08&lt;00:00, 751.25 examples/s]"
     }
    },
    "f2c3fe41ea1d47d3ae124634d30c5620": {
     "model_module": "@jupyter-widgets/base",
     "model_name": "LayoutModel",
     "state": {
      "_model_module": "@jupyter-widgets/base",
      "_model_module_version": "1.2.0",
      "_model_name": "LayoutModel",
      "_view_count": null,
      "_view_module": "@jupyter-widgets/base",
      "_view_module_version": "1.2.0",
      "_view_name": "LayoutView",
      "align_content": null,
      "align_items": null,
      "align_self": null,
      "border": null,
      "bottom": null,
      "display": null,
      "flex": null,
      "flex_flow": null,
      "grid_area": null,
      "grid_auto_columns": null,
      "grid_auto_flow": null,
      "grid_auto_rows": null,
      "grid_column": null,
      "grid_gap": null,
      "grid_row": null,
      "grid_template_areas": null,
      "grid_template_columns": null,
      "grid_template_rows": null,
      "height": null,
      "justify_content": null,
      "justify_items": null,
      "left": null,
      "margin": null,
      "max_height": null,
      "max_width": null,
      "min_height": null,
      "min_width": null,
      "object_fit": null,
      "object_position": null,
      "order": null,
      "overflow": null,
      "overflow_x": null,
      "overflow_y": null,
      "padding": null,
      "right": null,
      "top": null,
      "visibility": null,
      "width": null
     }
    },
    "f2e69cb48d364044b7cfaf90ba97cc60": {
     "model_module": "@jupyter-widgets/controls",
     "model_name": "FloatProgressModel",
     "state": {
      "_dom_classes": [],
      "_model_module": "@jupyter-widgets/controls",
      "_model_module_version": "1.5.0",
      "_model_name": "FloatProgressModel",
      "_view_count": null,
      "_view_module": "@jupyter-widgets/controls",
      "_view_module_version": "1.5.0",
      "_view_name": "ProgressView",
      "bar_style": "danger",
      "description": " 22%",
      "description_tooltip": null,
      "layout": "IPY_MODEL_a4a5d60e990b40318f400e1e7077dbd8",
      "max": 25000,
      "min": 0,
      "orientation": "horizontal",
      "style": "IPY_MODEL_982fc28051d4454ab5b9cbdd3ef96e22",
      "value": 5550
     }
    },
    "f395032234aa49a6b2f131a792d09910": {
     "model_module": "@jupyter-widgets/base",
     "model_name": "LayoutModel",
     "state": {
      "_model_module": "@jupyter-widgets/base",
      "_model_module_version": "1.2.0",
      "_model_name": "LayoutModel",
      "_view_count": null,
      "_view_module": "@jupyter-widgets/base",
      "_view_module_version": "1.2.0",
      "_view_name": "LayoutView",
      "align_content": null,
      "align_items": null,
      "align_self": null,
      "border": null,
      "bottom": null,
      "display": null,
      "flex": null,
      "flex_flow": null,
      "grid_area": null,
      "grid_auto_columns": null,
      "grid_auto_flow": null,
      "grid_auto_rows": null,
      "grid_column": null,
      "grid_gap": null,
      "grid_row": null,
      "grid_template_areas": null,
      "grid_template_columns": null,
      "grid_template_rows": null,
      "height": null,
      "justify_content": null,
      "justify_items": null,
      "left": null,
      "margin": null,
      "max_height": null,
      "max_width": null,
      "min_height": null,
      "min_width": null,
      "object_fit": null,
      "object_position": null,
      "order": null,
      "overflow": null,
      "overflow_x": null,
      "overflow_y": null,
      "padding": null,
      "right": null,
      "top": null,
      "visibility": null,
      "width": null
     }
    },
    "f4fd1f66d068456f9d3e3d69f0ed630f": {
     "model_module": "@jupyter-widgets/base",
     "model_name": "LayoutModel",
     "state": {
      "_model_module": "@jupyter-widgets/base",
      "_model_module_version": "1.2.0",
      "_model_name": "LayoutModel",
      "_view_count": null,
      "_view_module": "@jupyter-widgets/base",
      "_view_module_version": "1.2.0",
      "_view_name": "LayoutView",
      "align_content": null,
      "align_items": null,
      "align_self": null,
      "border": null,
      "bottom": null,
      "display": null,
      "flex": null,
      "flex_flow": null,
      "grid_area": null,
      "grid_auto_columns": null,
      "grid_auto_flow": null,
      "grid_auto_rows": null,
      "grid_column": null,
      "grid_gap": null,
      "grid_row": null,
      "grid_template_areas": null,
      "grid_template_columns": null,
      "grid_template_rows": null,
      "height": null,
      "justify_content": null,
      "justify_items": null,
      "left": null,
      "margin": null,
      "max_height": null,
      "max_width": null,
      "min_height": null,
      "min_width": null,
      "object_fit": null,
      "object_position": null,
      "order": null,
      "overflow": null,
      "overflow_x": null,
      "overflow_y": null,
      "padding": null,
      "right": null,
      "top": null,
      "visibility": null,
      "width": null
     }
    },
    "f9337f815b684513ae1259810a724ba6": {
     "model_module": "@jupyter-widgets/controls",
     "model_name": "DescriptionStyleModel",
     "state": {
      "_model_module": "@jupyter-widgets/controls",
      "_model_module_version": "1.5.0",
      "_model_name": "DescriptionStyleModel",
      "_view_count": null,
      "_view_module": "@jupyter-widgets/base",
      "_view_module_version": "1.2.0",
      "_view_name": "StyleView",
      "description_width": ""
     }
    },
    "ffeacd6565ab4b99ab978a0264ba0a6e": {
     "model_module": "@jupyter-widgets/controls",
     "model_name": "DescriptionStyleModel",
     "state": {
      "_model_module": "@jupyter-widgets/controls",
      "_model_module_version": "1.5.0",
      "_model_name": "DescriptionStyleModel",
      "_view_count": null,
      "_view_module": "@jupyter-widgets/base",
      "_view_module_version": "1.2.0",
      "_view_name": "StyleView",
      "description_width": ""
     }
    }
   }
  }
 },
 "nbformat": 4,
 "nbformat_minor": 1
}
